{
 "cells": [
  {
   "cell_type": "code",
   "execution_count": 32,
   "metadata": {},
   "outputs": [],
   "source": [
    "import pandas as pd\n",
    "import plotly.figure_factory as ff\n",
    "import plotly.express as px"
   ]
  },
  {
   "cell_type": "code",
   "execution_count": 31,
   "metadata": {},
   "outputs": [
    {
     "data": {
      "text/html": [
       "<div>\n",
       "<style scoped>\n",
       "    .dataframe tbody tr th:only-of-type {\n",
       "        vertical-align: middle;\n",
       "    }\n",
       "\n",
       "    .dataframe tbody tr th {\n",
       "        vertical-align: top;\n",
       "    }\n",
       "\n",
       "    .dataframe thead th {\n",
       "        text-align: right;\n",
       "    }\n",
       "</style>\n",
       "<table border=\"1\" class=\"dataframe\">\n",
       "  <thead>\n",
       "    <tr style=\"text-align: right;\">\n",
       "      <th></th>\n",
       "      <th>GeoFips</th>\n",
       "      <th>GeoName</th>\n",
       "      <th>LineCode</th>\n",
       "      <th>Description</th>\n",
       "      <th>Change_in_Spending</th>\n",
       "      <th>Abbreviation</th>\n",
       "    </tr>\n",
       "  </thead>\n",
       "  <tbody>\n",
       "    <tr>\n",
       "      <th>0</th>\n",
       "      <td>1000</td>\n",
       "      <td>Alabama</td>\n",
       "      <td>3</td>\n",
       "      <td>Food</td>\n",
       "      <td>11.1</td>\n",
       "      <td>AL</td>\n",
       "    </tr>\n",
       "    <tr>\n",
       "      <th>1</th>\n",
       "      <td>1000</td>\n",
       "      <td>Alabama</td>\n",
       "      <td>7</td>\n",
       "      <td>Clothing</td>\n",
       "      <td>-4.2</td>\n",
       "      <td>AL</td>\n",
       "    </tr>\n",
       "    <tr>\n",
       "      <th>2</th>\n",
       "      <td>1000</td>\n",
       "      <td>Alabama</td>\n",
       "      <td>18</td>\n",
       "      <td>Housing</td>\n",
       "      <td>3.3</td>\n",
       "      <td>AL</td>\n",
       "    </tr>\n",
       "    <tr>\n",
       "      <th>3</th>\n",
       "      <td>1000</td>\n",
       "      <td>Alabama</td>\n",
       "      <td>37</td>\n",
       "      <td>Health</td>\n",
       "      <td>-3.5</td>\n",
       "      <td>AL</td>\n",
       "    </tr>\n",
       "    <tr>\n",
       "      <th>4</th>\n",
       "      <td>1000</td>\n",
       "      <td>Alabama</td>\n",
       "      <td>53</td>\n",
       "      <td>Transportation</td>\n",
       "      <td>-7.2</td>\n",
       "      <td>AL</td>\n",
       "    </tr>\n",
       "  </tbody>\n",
       "</table>\n",
       "</div>"
      ],
      "text/plain": [
       "   GeoFips  GeoName  LineCode     Description  Change_in_Spending Abbreviation\n",
       "0     1000  Alabama         3            Food                11.1           AL\n",
       "1     1000  Alabama         7        Clothing                -4.2           AL\n",
       "2     1000  Alabama        18         Housing                 3.3           AL\n",
       "3     1000  Alabama        37          Health                -3.5           AL\n",
       "4     1000  Alabama        53  Transportation                -7.2           AL"
      ]
     },
     "execution_count": 31,
     "metadata": {},
     "output_type": "execute_result"
    }
   ],
   "source": [
    "df = pd.read_csv('Resources/pce_change_2020.csv')\n",
    "# df.set_index('City_ID', inplace=True)\n",
    "df.head(5)"
   ]
  },
  {
   "cell_type": "code",
   "execution_count": 18,
   "metadata": {},
   "outputs": [],
   "source": [
    "new_df = df.drop(df[(df.LineCode == 7) | (df.LineCode == 95)].index).copy()\n",
    "new_df.reset_index(drop=True, inplace=True )"
   ]
  },
  {
   "cell_type": "code",
   "execution_count": 90,
   "metadata": {},
   "outputs": [
    {
     "data": {
      "application/vnd.plotly.v1+json": {
       "config": {
        "plotlyServerURL": "https://plot.ly"
       },
       "data": [
        {
         "coloraxis": "coloraxis",
         "geo": "geo",
         "hovertemplate": "locations=%{location}<br>color=%{z}<extra></extra>",
         "locationmode": "USA-states",
         "locations": [
          "AL",
          "AK",
          "AZ",
          "AR",
          "CA",
          "CO",
          "CT",
          "DE",
          "DC",
          "FL",
          "GA",
          "HI",
          "ID",
          "IL",
          "IN",
          "IA",
          "KS",
          "KY",
          "LA",
          "ME",
          "MD",
          "MA",
          "MI",
          "MN",
          "MS",
          "MO",
          "MT",
          "NE",
          "NV",
          "NH",
          "NJ",
          "NM",
          "NY",
          "NC",
          "ND",
          "OH",
          "OK",
          "OR",
          "PA",
          "RI",
          "SC",
          "SD",
          "TN",
          "TX",
          "UT",
          "VT",
          "VA",
          "WA",
          "WV",
          "WI",
          "WY"
         ],
         "name": "",
         "type": "choropleth",
         "z": [
          -3.5,
          -8.6,
          -1.1,
          -3,
          -3.8,
          -2.5,
          -4.1,
          -5.5,
          -6.1,
          -3.1,
          -4.3,
          -3.3,
          -4,
          -4.3,
          -3.5,
          -5.7,
          -2.9,
          -3.2,
          -2.5,
          -3.1,
          -4.6,
          -5.9,
          -5.7,
          -5.9,
          -3.3,
          -4.7,
          -1.8,
          -3.4,
          -3,
          -4.9,
          -2.6,
          -3.7,
          -3.2,
          -3.6,
          -4.9,
          -4.5,
          -4.8,
          -4.3,
          -4,
          -6.2,
          -3.1,
          -4.5,
          -1.6,
          -3.7,
          -3.2,
          -3.8,
          -4.7,
          -6,
          -3.9,
          -5,
          -4.3
         ]
        }
       ],
       "layout": {
        "coloraxis": {
         "cmid": 0,
         "colorbar": {
          "dtick": 2,
          "len": 200,
          "lenmode": "pixels",
          "thickness": 50,
          "thicknessmode": "pixels",
          "ticksuffix": "%",
          "title": {
           "text": "Percent Change"
          },
          "y": 1,
          "yanchor": "top"
         },
         "colorscale": [
          [
           0,
           "rgb(20, 29, 67)"
          ],
          [
           0.09090909090909091,
           "rgb(28, 72, 93)"
          ],
          [
           0.18181818181818182,
           "rgb(18, 115, 117)"
          ],
          [
           0.2727272727272727,
           "rgb(63, 156, 129)"
          ],
          [
           0.36363636363636365,
           "rgb(153, 189, 156)"
          ],
          [
           0.45454545454545453,
           "rgb(223, 225, 211)"
          ],
          [
           0.5454545454545454,
           "rgb(241, 218, 206)"
          ],
          [
           0.6363636363636364,
           "rgb(224, 160, 137)"
          ],
          [
           0.7272727272727273,
           "rgb(203, 101, 99)"
          ],
          [
           0.8181818181818182,
           "rgb(164, 54, 96)"
          ],
          [
           0.9090909090909091,
           "rgb(111, 23, 91)"
          ],
          [
           1,
           "rgb(51, 13, 53)"
          ]
         ]
        },
        "geo": {
         "center": {},
         "domain": {
          "x": [
           0,
           1
          ],
          "y": [
           0,
           1
          ]
         },
         "scope": "usa"
        },
        "legend": {
         "tracegroupgap": 0
        },
        "template": {
         "data": {
          "bar": [
           {
            "error_x": {
             "color": "#2a3f5f"
            },
            "error_y": {
             "color": "#2a3f5f"
            },
            "marker": {
             "line": {
              "color": "#E5ECF6",
              "width": 0.5
             },
             "pattern": {
              "fillmode": "overlay",
              "size": 10,
              "solidity": 0.2
             }
            },
            "type": "bar"
           }
          ],
          "barpolar": [
           {
            "marker": {
             "line": {
              "color": "#E5ECF6",
              "width": 0.5
             },
             "pattern": {
              "fillmode": "overlay",
              "size": 10,
              "solidity": 0.2
             }
            },
            "type": "barpolar"
           }
          ],
          "carpet": [
           {
            "aaxis": {
             "endlinecolor": "#2a3f5f",
             "gridcolor": "white",
             "linecolor": "white",
             "minorgridcolor": "white",
             "startlinecolor": "#2a3f5f"
            },
            "baxis": {
             "endlinecolor": "#2a3f5f",
             "gridcolor": "white",
             "linecolor": "white",
             "minorgridcolor": "white",
             "startlinecolor": "#2a3f5f"
            },
            "type": "carpet"
           }
          ],
          "choropleth": [
           {
            "colorbar": {
             "outlinewidth": 0,
             "ticks": ""
            },
            "type": "choropleth"
           }
          ],
          "contour": [
           {
            "colorbar": {
             "outlinewidth": 0,
             "ticks": ""
            },
            "colorscale": [
             [
              0,
              "#0d0887"
             ],
             [
              0.1111111111111111,
              "#46039f"
             ],
             [
              0.2222222222222222,
              "#7201a8"
             ],
             [
              0.3333333333333333,
              "#9c179e"
             ],
             [
              0.4444444444444444,
              "#bd3786"
             ],
             [
              0.5555555555555556,
              "#d8576b"
             ],
             [
              0.6666666666666666,
              "#ed7953"
             ],
             [
              0.7777777777777778,
              "#fb9f3a"
             ],
             [
              0.8888888888888888,
              "#fdca26"
             ],
             [
              1,
              "#f0f921"
             ]
            ],
            "type": "contour"
           }
          ],
          "contourcarpet": [
           {
            "colorbar": {
             "outlinewidth": 0,
             "ticks": ""
            },
            "type": "contourcarpet"
           }
          ],
          "heatmap": [
           {
            "colorbar": {
             "outlinewidth": 0,
             "ticks": ""
            },
            "colorscale": [
             [
              0,
              "#0d0887"
             ],
             [
              0.1111111111111111,
              "#46039f"
             ],
             [
              0.2222222222222222,
              "#7201a8"
             ],
             [
              0.3333333333333333,
              "#9c179e"
             ],
             [
              0.4444444444444444,
              "#bd3786"
             ],
             [
              0.5555555555555556,
              "#d8576b"
             ],
             [
              0.6666666666666666,
              "#ed7953"
             ],
             [
              0.7777777777777778,
              "#fb9f3a"
             ],
             [
              0.8888888888888888,
              "#fdca26"
             ],
             [
              1,
              "#f0f921"
             ]
            ],
            "type": "heatmap"
           }
          ],
          "heatmapgl": [
           {
            "colorbar": {
             "outlinewidth": 0,
             "ticks": ""
            },
            "colorscale": [
             [
              0,
              "#0d0887"
             ],
             [
              0.1111111111111111,
              "#46039f"
             ],
             [
              0.2222222222222222,
              "#7201a8"
             ],
             [
              0.3333333333333333,
              "#9c179e"
             ],
             [
              0.4444444444444444,
              "#bd3786"
             ],
             [
              0.5555555555555556,
              "#d8576b"
             ],
             [
              0.6666666666666666,
              "#ed7953"
             ],
             [
              0.7777777777777778,
              "#fb9f3a"
             ],
             [
              0.8888888888888888,
              "#fdca26"
             ],
             [
              1,
              "#f0f921"
             ]
            ],
            "type": "heatmapgl"
           }
          ],
          "histogram": [
           {
            "marker": {
             "pattern": {
              "fillmode": "overlay",
              "size": 10,
              "solidity": 0.2
             }
            },
            "type": "histogram"
           }
          ],
          "histogram2d": [
           {
            "colorbar": {
             "outlinewidth": 0,
             "ticks": ""
            },
            "colorscale": [
             [
              0,
              "#0d0887"
             ],
             [
              0.1111111111111111,
              "#46039f"
             ],
             [
              0.2222222222222222,
              "#7201a8"
             ],
             [
              0.3333333333333333,
              "#9c179e"
             ],
             [
              0.4444444444444444,
              "#bd3786"
             ],
             [
              0.5555555555555556,
              "#d8576b"
             ],
             [
              0.6666666666666666,
              "#ed7953"
             ],
             [
              0.7777777777777778,
              "#fb9f3a"
             ],
             [
              0.8888888888888888,
              "#fdca26"
             ],
             [
              1,
              "#f0f921"
             ]
            ],
            "type": "histogram2d"
           }
          ],
          "histogram2dcontour": [
           {
            "colorbar": {
             "outlinewidth": 0,
             "ticks": ""
            },
            "colorscale": [
             [
              0,
              "#0d0887"
             ],
             [
              0.1111111111111111,
              "#46039f"
             ],
             [
              0.2222222222222222,
              "#7201a8"
             ],
             [
              0.3333333333333333,
              "#9c179e"
             ],
             [
              0.4444444444444444,
              "#bd3786"
             ],
             [
              0.5555555555555556,
              "#d8576b"
             ],
             [
              0.6666666666666666,
              "#ed7953"
             ],
             [
              0.7777777777777778,
              "#fb9f3a"
             ],
             [
              0.8888888888888888,
              "#fdca26"
             ],
             [
              1,
              "#f0f921"
             ]
            ],
            "type": "histogram2dcontour"
           }
          ],
          "mesh3d": [
           {
            "colorbar": {
             "outlinewidth": 0,
             "ticks": ""
            },
            "type": "mesh3d"
           }
          ],
          "parcoords": [
           {
            "line": {
             "colorbar": {
              "outlinewidth": 0,
              "ticks": ""
             }
            },
            "type": "parcoords"
           }
          ],
          "pie": [
           {
            "automargin": true,
            "type": "pie"
           }
          ],
          "scatter": [
           {
            "marker": {
             "colorbar": {
              "outlinewidth": 0,
              "ticks": ""
             }
            },
            "type": "scatter"
           }
          ],
          "scatter3d": [
           {
            "line": {
             "colorbar": {
              "outlinewidth": 0,
              "ticks": ""
             }
            },
            "marker": {
             "colorbar": {
              "outlinewidth": 0,
              "ticks": ""
             }
            },
            "type": "scatter3d"
           }
          ],
          "scattercarpet": [
           {
            "marker": {
             "colorbar": {
              "outlinewidth": 0,
              "ticks": ""
             }
            },
            "type": "scattercarpet"
           }
          ],
          "scattergeo": [
           {
            "marker": {
             "colorbar": {
              "outlinewidth": 0,
              "ticks": ""
             }
            },
            "type": "scattergeo"
           }
          ],
          "scattergl": [
           {
            "marker": {
             "colorbar": {
              "outlinewidth": 0,
              "ticks": ""
             }
            },
            "type": "scattergl"
           }
          ],
          "scattermapbox": [
           {
            "marker": {
             "colorbar": {
              "outlinewidth": 0,
              "ticks": ""
             }
            },
            "type": "scattermapbox"
           }
          ],
          "scatterpolar": [
           {
            "marker": {
             "colorbar": {
              "outlinewidth": 0,
              "ticks": ""
             }
            },
            "type": "scatterpolar"
           }
          ],
          "scatterpolargl": [
           {
            "marker": {
             "colorbar": {
              "outlinewidth": 0,
              "ticks": ""
             }
            },
            "type": "scatterpolargl"
           }
          ],
          "scatterternary": [
           {
            "marker": {
             "colorbar": {
              "outlinewidth": 0,
              "ticks": ""
             }
            },
            "type": "scatterternary"
           }
          ],
          "surface": [
           {
            "colorbar": {
             "outlinewidth": 0,
             "ticks": ""
            },
            "colorscale": [
             [
              0,
              "#0d0887"
             ],
             [
              0.1111111111111111,
              "#46039f"
             ],
             [
              0.2222222222222222,
              "#7201a8"
             ],
             [
              0.3333333333333333,
              "#9c179e"
             ],
             [
              0.4444444444444444,
              "#bd3786"
             ],
             [
              0.5555555555555556,
              "#d8576b"
             ],
             [
              0.6666666666666666,
              "#ed7953"
             ],
             [
              0.7777777777777778,
              "#fb9f3a"
             ],
             [
              0.8888888888888888,
              "#fdca26"
             ],
             [
              1,
              "#f0f921"
             ]
            ],
            "type": "surface"
           }
          ],
          "table": [
           {
            "cells": {
             "fill": {
              "color": "#EBF0F8"
             },
             "line": {
              "color": "white"
             }
            },
            "header": {
             "fill": {
              "color": "#C8D4E3"
             },
             "line": {
              "color": "white"
             }
            },
            "type": "table"
           }
          ]
         },
         "layout": {
          "annotationdefaults": {
           "arrowcolor": "#2a3f5f",
           "arrowhead": 0,
           "arrowwidth": 1
          },
          "autotypenumbers": "strict",
          "coloraxis": {
           "colorbar": {
            "outlinewidth": 0,
            "ticks": ""
           }
          },
          "colorscale": {
           "diverging": [
            [
             0,
             "#8e0152"
            ],
            [
             0.1,
             "#c51b7d"
            ],
            [
             0.2,
             "#de77ae"
            ],
            [
             0.3,
             "#f1b6da"
            ],
            [
             0.4,
             "#fde0ef"
            ],
            [
             0.5,
             "#f7f7f7"
            ],
            [
             0.6,
             "#e6f5d0"
            ],
            [
             0.7,
             "#b8e186"
            ],
            [
             0.8,
             "#7fbc41"
            ],
            [
             0.9,
             "#4d9221"
            ],
            [
             1,
             "#276419"
            ]
           ],
           "sequential": [
            [
             0,
             "#0d0887"
            ],
            [
             0.1111111111111111,
             "#46039f"
            ],
            [
             0.2222222222222222,
             "#7201a8"
            ],
            [
             0.3333333333333333,
             "#9c179e"
            ],
            [
             0.4444444444444444,
             "#bd3786"
            ],
            [
             0.5555555555555556,
             "#d8576b"
            ],
            [
             0.6666666666666666,
             "#ed7953"
            ],
            [
             0.7777777777777778,
             "#fb9f3a"
            ],
            [
             0.8888888888888888,
             "#fdca26"
            ],
            [
             1,
             "#f0f921"
            ]
           ],
           "sequentialminus": [
            [
             0,
             "#0d0887"
            ],
            [
             0.1111111111111111,
             "#46039f"
            ],
            [
             0.2222222222222222,
             "#7201a8"
            ],
            [
             0.3333333333333333,
             "#9c179e"
            ],
            [
             0.4444444444444444,
             "#bd3786"
            ],
            [
             0.5555555555555556,
             "#d8576b"
            ],
            [
             0.6666666666666666,
             "#ed7953"
            ],
            [
             0.7777777777777778,
             "#fb9f3a"
            ],
            [
             0.8888888888888888,
             "#fdca26"
            ],
            [
             1,
             "#f0f921"
            ]
           ]
          },
          "colorway": [
           "#636efa",
           "#EF553B",
           "#00cc96",
           "#ab63fa",
           "#FFA15A",
           "#19d3f3",
           "#FF6692",
           "#B6E880",
           "#FF97FF",
           "#FECB52"
          ],
          "font": {
           "color": "#2a3f5f"
          },
          "geo": {
           "bgcolor": "white",
           "lakecolor": "white",
           "landcolor": "#E5ECF6",
           "showlakes": true,
           "showland": true,
           "subunitcolor": "white"
          },
          "hoverlabel": {
           "align": "left"
          },
          "hovermode": "closest",
          "mapbox": {
           "style": "light"
          },
          "paper_bgcolor": "white",
          "plot_bgcolor": "#E5ECF6",
          "polar": {
           "angularaxis": {
            "gridcolor": "white",
            "linecolor": "white",
            "ticks": ""
           },
           "bgcolor": "#E5ECF6",
           "radialaxis": {
            "gridcolor": "white",
            "linecolor": "white",
            "ticks": ""
           }
          },
          "scene": {
           "xaxis": {
            "backgroundcolor": "#E5ECF6",
            "gridcolor": "white",
            "gridwidth": 2,
            "linecolor": "white",
            "showbackground": true,
            "ticks": "",
            "zerolinecolor": "white"
           },
           "yaxis": {
            "backgroundcolor": "#E5ECF6",
            "gridcolor": "white",
            "gridwidth": 2,
            "linecolor": "white",
            "showbackground": true,
            "ticks": "",
            "zerolinecolor": "white"
           },
           "zaxis": {
            "backgroundcolor": "#E5ECF6",
            "gridcolor": "white",
            "gridwidth": 2,
            "linecolor": "white",
            "showbackground": true,
            "ticks": "",
            "zerolinecolor": "white"
           }
          },
          "shapedefaults": {
           "line": {
            "color": "#2a3f5f"
           }
          },
          "ternary": {
           "aaxis": {
            "gridcolor": "white",
            "linecolor": "white",
            "ticks": ""
           },
           "baxis": {
            "gridcolor": "white",
            "linecolor": "white",
            "ticks": ""
           },
           "bgcolor": "#E5ECF6",
           "caxis": {
            "gridcolor": "white",
            "linecolor": "white",
            "ticks": ""
           }
          },
          "title": {
           "x": 0.05
          },
          "xaxis": {
           "automargin": true,
           "gridcolor": "white",
           "linecolor": "white",
           "ticks": "",
           "title": {
            "standoff": 15
           },
           "zerolinecolor": "white",
           "zerolinewidth": 2
          },
          "yaxis": {
           "automargin": true,
           "gridcolor": "white",
           "linecolor": "white",
           "ticks": "",
           "title": {
            "standoff": 15
           },
           "zerolinecolor": "white",
           "zerolinewidth": 2
          }
         }
        },
        "title": {
         "text": "Change in Health Expenses (2019 - 2020)"
        }
       }
      }
     },
     "metadata": {},
     "output_type": "display_data"
    }
   ],
   "source": [
    "health_df = df.drop(df[df.Description !=\"Health\"].index).copy()\n",
    "health_fig = px.choropleth(\n",
    "    locations=health_df['Abbreviation'],\n",
    "    locationmode=\"USA-states\",\n",
    "    title=\"Change in Health Expenses (2019 - 2020)\",\n",
    "    color_continuous_scale=px.colors.diverging.curl,\n",
    "    color = health_df['Change_in_Spending'],\n",
    "    color_continuous_midpoint = 0,\n",
    "    scope = 'usa')\n",
    "health_fig.update_layout(coloraxis_colorbar=dict(\n",
    "    title=\"Percent Change\",\n",
    "    thicknessmode=\"pixels\", thickness=50,\n",
    "    lenmode=\"pixels\", len=200,\n",
    "    yanchor=\"top\", y=1,\n",
    "    ticksuffix=\"%\",\n",
    "    dtick=2\n",
    "))\n",
    "health_fig.show()"
   ]
  },
  {
   "cell_type": "code",
   "execution_count": 94,
   "metadata": {},
   "outputs": [
    {
     "data": {
      "application/vnd.plotly.v1+json": {
       "config": {
        "plotlyServerURL": "https://plot.ly"
       },
       "data": [
        {
         "coloraxis": "coloraxis",
         "geo": "geo",
         "hovertemplate": "locations=%{location}<br>color=%{z}<extra></extra>",
         "locationmode": "USA-states",
         "locations": [
          "AL",
          "AK",
          "AZ",
          "AR",
          "CA",
          "CO",
          "CT",
          "DE",
          "DC",
          "FL",
          "GA",
          "HI",
          "ID",
          "IL",
          "IN",
          "IA",
          "KS",
          "KY",
          "LA",
          "ME",
          "MD",
          "MA",
          "MI",
          "MN",
          "MS",
          "MO",
          "MT",
          "NE",
          "NV",
          "NH",
          "NJ",
          "NM",
          "NY",
          "NC",
          "ND",
          "OH",
          "OK",
          "OR",
          "PA",
          "RI",
          "SC",
          "SD",
          "TN",
          "TX",
          "UT",
          "VT",
          "VA",
          "WA",
          "WV",
          "WI",
          "WY"
         ],
         "name": "",
         "type": "choropleth",
         "z": [
          -7.2,
          -12.2,
          -11.5,
          -7.2,
          -19.7,
          -12,
          -21.6,
          -12.7,
          -21.1,
          -13.9,
          -13.2,
          -24.2,
          -6.5,
          -18.6,
          -10.2,
          -8,
          -11.5,
          -10.5,
          -10.3,
          -11.4,
          -15.8,
          -23.9,
          -14.2,
          -11.9,
          -6.8,
          -9.6,
          -7,
          -8.6,
          -14.6,
          -9.7,
          -19.8,
          -13.3,
          -26,
          -9.9,
          -8.1,
          -11.2,
          -7.5,
          -15.3,
          -15.7,
          -17.3,
          -8,
          -3.7,
          -10.2,
          -10,
          -6.5,
          -14.6,
          -14.7,
          -20.7,
          -11.3,
          -10,
          -8.7
         ]
        }
       ],
       "layout": {
        "coloraxis": {
         "cmid": 0,
         "colorbar": {
          "dtick": 6,
          "len": 200,
          "lenmode": "pixels",
          "thickness": 50,
          "thicknessmode": "pixels",
          "ticksuffix": "%",
          "title": {
           "text": "Percent Change"
          },
          "y": 1,
          "yanchor": "top"
         },
         "colorscale": [
          [
           0,
           "rgb(20, 29, 67)"
          ],
          [
           0.09090909090909091,
           "rgb(28, 72, 93)"
          ],
          [
           0.18181818181818182,
           "rgb(18, 115, 117)"
          ],
          [
           0.2727272727272727,
           "rgb(63, 156, 129)"
          ],
          [
           0.36363636363636365,
           "rgb(153, 189, 156)"
          ],
          [
           0.45454545454545453,
           "rgb(223, 225, 211)"
          ],
          [
           0.5454545454545454,
           "rgb(241, 218, 206)"
          ],
          [
           0.6363636363636364,
           "rgb(224, 160, 137)"
          ],
          [
           0.7272727272727273,
           "rgb(203, 101, 99)"
          ],
          [
           0.8181818181818182,
           "rgb(164, 54, 96)"
          ],
          [
           0.9090909090909091,
           "rgb(111, 23, 91)"
          ],
          [
           1,
           "rgb(51, 13, 53)"
          ]
         ]
        },
        "geo": {
         "center": {},
         "domain": {
          "x": [
           0,
           1
          ],
          "y": [
           0,
           1
          ]
         },
         "scope": "usa"
        },
        "legend": {
         "tracegroupgap": 0
        },
        "template": {
         "data": {
          "bar": [
           {
            "error_x": {
             "color": "#2a3f5f"
            },
            "error_y": {
             "color": "#2a3f5f"
            },
            "marker": {
             "line": {
              "color": "#E5ECF6",
              "width": 0.5
             },
             "pattern": {
              "fillmode": "overlay",
              "size": 10,
              "solidity": 0.2
             }
            },
            "type": "bar"
           }
          ],
          "barpolar": [
           {
            "marker": {
             "line": {
              "color": "#E5ECF6",
              "width": 0.5
             },
             "pattern": {
              "fillmode": "overlay",
              "size": 10,
              "solidity": 0.2
             }
            },
            "type": "barpolar"
           }
          ],
          "carpet": [
           {
            "aaxis": {
             "endlinecolor": "#2a3f5f",
             "gridcolor": "white",
             "linecolor": "white",
             "minorgridcolor": "white",
             "startlinecolor": "#2a3f5f"
            },
            "baxis": {
             "endlinecolor": "#2a3f5f",
             "gridcolor": "white",
             "linecolor": "white",
             "minorgridcolor": "white",
             "startlinecolor": "#2a3f5f"
            },
            "type": "carpet"
           }
          ],
          "choropleth": [
           {
            "colorbar": {
             "outlinewidth": 0,
             "ticks": ""
            },
            "type": "choropleth"
           }
          ],
          "contour": [
           {
            "colorbar": {
             "outlinewidth": 0,
             "ticks": ""
            },
            "colorscale": [
             [
              0,
              "#0d0887"
             ],
             [
              0.1111111111111111,
              "#46039f"
             ],
             [
              0.2222222222222222,
              "#7201a8"
             ],
             [
              0.3333333333333333,
              "#9c179e"
             ],
             [
              0.4444444444444444,
              "#bd3786"
             ],
             [
              0.5555555555555556,
              "#d8576b"
             ],
             [
              0.6666666666666666,
              "#ed7953"
             ],
             [
              0.7777777777777778,
              "#fb9f3a"
             ],
             [
              0.8888888888888888,
              "#fdca26"
             ],
             [
              1,
              "#f0f921"
             ]
            ],
            "type": "contour"
           }
          ],
          "contourcarpet": [
           {
            "colorbar": {
             "outlinewidth": 0,
             "ticks": ""
            },
            "type": "contourcarpet"
           }
          ],
          "heatmap": [
           {
            "colorbar": {
             "outlinewidth": 0,
             "ticks": ""
            },
            "colorscale": [
             [
              0,
              "#0d0887"
             ],
             [
              0.1111111111111111,
              "#46039f"
             ],
             [
              0.2222222222222222,
              "#7201a8"
             ],
             [
              0.3333333333333333,
              "#9c179e"
             ],
             [
              0.4444444444444444,
              "#bd3786"
             ],
             [
              0.5555555555555556,
              "#d8576b"
             ],
             [
              0.6666666666666666,
              "#ed7953"
             ],
             [
              0.7777777777777778,
              "#fb9f3a"
             ],
             [
              0.8888888888888888,
              "#fdca26"
             ],
             [
              1,
              "#f0f921"
             ]
            ],
            "type": "heatmap"
           }
          ],
          "heatmapgl": [
           {
            "colorbar": {
             "outlinewidth": 0,
             "ticks": ""
            },
            "colorscale": [
             [
              0,
              "#0d0887"
             ],
             [
              0.1111111111111111,
              "#46039f"
             ],
             [
              0.2222222222222222,
              "#7201a8"
             ],
             [
              0.3333333333333333,
              "#9c179e"
             ],
             [
              0.4444444444444444,
              "#bd3786"
             ],
             [
              0.5555555555555556,
              "#d8576b"
             ],
             [
              0.6666666666666666,
              "#ed7953"
             ],
             [
              0.7777777777777778,
              "#fb9f3a"
             ],
             [
              0.8888888888888888,
              "#fdca26"
             ],
             [
              1,
              "#f0f921"
             ]
            ],
            "type": "heatmapgl"
           }
          ],
          "histogram": [
           {
            "marker": {
             "pattern": {
              "fillmode": "overlay",
              "size": 10,
              "solidity": 0.2
             }
            },
            "type": "histogram"
           }
          ],
          "histogram2d": [
           {
            "colorbar": {
             "outlinewidth": 0,
             "ticks": ""
            },
            "colorscale": [
             [
              0,
              "#0d0887"
             ],
             [
              0.1111111111111111,
              "#46039f"
             ],
             [
              0.2222222222222222,
              "#7201a8"
             ],
             [
              0.3333333333333333,
              "#9c179e"
             ],
             [
              0.4444444444444444,
              "#bd3786"
             ],
             [
              0.5555555555555556,
              "#d8576b"
             ],
             [
              0.6666666666666666,
              "#ed7953"
             ],
             [
              0.7777777777777778,
              "#fb9f3a"
             ],
             [
              0.8888888888888888,
              "#fdca26"
             ],
             [
              1,
              "#f0f921"
             ]
            ],
            "type": "histogram2d"
           }
          ],
          "histogram2dcontour": [
           {
            "colorbar": {
             "outlinewidth": 0,
             "ticks": ""
            },
            "colorscale": [
             [
              0,
              "#0d0887"
             ],
             [
              0.1111111111111111,
              "#46039f"
             ],
             [
              0.2222222222222222,
              "#7201a8"
             ],
             [
              0.3333333333333333,
              "#9c179e"
             ],
             [
              0.4444444444444444,
              "#bd3786"
             ],
             [
              0.5555555555555556,
              "#d8576b"
             ],
             [
              0.6666666666666666,
              "#ed7953"
             ],
             [
              0.7777777777777778,
              "#fb9f3a"
             ],
             [
              0.8888888888888888,
              "#fdca26"
             ],
             [
              1,
              "#f0f921"
             ]
            ],
            "type": "histogram2dcontour"
           }
          ],
          "mesh3d": [
           {
            "colorbar": {
             "outlinewidth": 0,
             "ticks": ""
            },
            "type": "mesh3d"
           }
          ],
          "parcoords": [
           {
            "line": {
             "colorbar": {
              "outlinewidth": 0,
              "ticks": ""
             }
            },
            "type": "parcoords"
           }
          ],
          "pie": [
           {
            "automargin": true,
            "type": "pie"
           }
          ],
          "scatter": [
           {
            "marker": {
             "colorbar": {
              "outlinewidth": 0,
              "ticks": ""
             }
            },
            "type": "scatter"
           }
          ],
          "scatter3d": [
           {
            "line": {
             "colorbar": {
              "outlinewidth": 0,
              "ticks": ""
             }
            },
            "marker": {
             "colorbar": {
              "outlinewidth": 0,
              "ticks": ""
             }
            },
            "type": "scatter3d"
           }
          ],
          "scattercarpet": [
           {
            "marker": {
             "colorbar": {
              "outlinewidth": 0,
              "ticks": ""
             }
            },
            "type": "scattercarpet"
           }
          ],
          "scattergeo": [
           {
            "marker": {
             "colorbar": {
              "outlinewidth": 0,
              "ticks": ""
             }
            },
            "type": "scattergeo"
           }
          ],
          "scattergl": [
           {
            "marker": {
             "colorbar": {
              "outlinewidth": 0,
              "ticks": ""
             }
            },
            "type": "scattergl"
           }
          ],
          "scattermapbox": [
           {
            "marker": {
             "colorbar": {
              "outlinewidth": 0,
              "ticks": ""
             }
            },
            "type": "scattermapbox"
           }
          ],
          "scatterpolar": [
           {
            "marker": {
             "colorbar": {
              "outlinewidth": 0,
              "ticks": ""
             }
            },
            "type": "scatterpolar"
           }
          ],
          "scatterpolargl": [
           {
            "marker": {
             "colorbar": {
              "outlinewidth": 0,
              "ticks": ""
             }
            },
            "type": "scatterpolargl"
           }
          ],
          "scatterternary": [
           {
            "marker": {
             "colorbar": {
              "outlinewidth": 0,
              "ticks": ""
             }
            },
            "type": "scatterternary"
           }
          ],
          "surface": [
           {
            "colorbar": {
             "outlinewidth": 0,
             "ticks": ""
            },
            "colorscale": [
             [
              0,
              "#0d0887"
             ],
             [
              0.1111111111111111,
              "#46039f"
             ],
             [
              0.2222222222222222,
              "#7201a8"
             ],
             [
              0.3333333333333333,
              "#9c179e"
             ],
             [
              0.4444444444444444,
              "#bd3786"
             ],
             [
              0.5555555555555556,
              "#d8576b"
             ],
             [
              0.6666666666666666,
              "#ed7953"
             ],
             [
              0.7777777777777778,
              "#fb9f3a"
             ],
             [
              0.8888888888888888,
              "#fdca26"
             ],
             [
              1,
              "#f0f921"
             ]
            ],
            "type": "surface"
           }
          ],
          "table": [
           {
            "cells": {
             "fill": {
              "color": "#EBF0F8"
             },
             "line": {
              "color": "white"
             }
            },
            "header": {
             "fill": {
              "color": "#C8D4E3"
             },
             "line": {
              "color": "white"
             }
            },
            "type": "table"
           }
          ]
         },
         "layout": {
          "annotationdefaults": {
           "arrowcolor": "#2a3f5f",
           "arrowhead": 0,
           "arrowwidth": 1
          },
          "autotypenumbers": "strict",
          "coloraxis": {
           "colorbar": {
            "outlinewidth": 0,
            "ticks": ""
           }
          },
          "colorscale": {
           "diverging": [
            [
             0,
             "#8e0152"
            ],
            [
             0.1,
             "#c51b7d"
            ],
            [
             0.2,
             "#de77ae"
            ],
            [
             0.3,
             "#f1b6da"
            ],
            [
             0.4,
             "#fde0ef"
            ],
            [
             0.5,
             "#f7f7f7"
            ],
            [
             0.6,
             "#e6f5d0"
            ],
            [
             0.7,
             "#b8e186"
            ],
            [
             0.8,
             "#7fbc41"
            ],
            [
             0.9,
             "#4d9221"
            ],
            [
             1,
             "#276419"
            ]
           ],
           "sequential": [
            [
             0,
             "#0d0887"
            ],
            [
             0.1111111111111111,
             "#46039f"
            ],
            [
             0.2222222222222222,
             "#7201a8"
            ],
            [
             0.3333333333333333,
             "#9c179e"
            ],
            [
             0.4444444444444444,
             "#bd3786"
            ],
            [
             0.5555555555555556,
             "#d8576b"
            ],
            [
             0.6666666666666666,
             "#ed7953"
            ],
            [
             0.7777777777777778,
             "#fb9f3a"
            ],
            [
             0.8888888888888888,
             "#fdca26"
            ],
            [
             1,
             "#f0f921"
            ]
           ],
           "sequentialminus": [
            [
             0,
             "#0d0887"
            ],
            [
             0.1111111111111111,
             "#46039f"
            ],
            [
             0.2222222222222222,
             "#7201a8"
            ],
            [
             0.3333333333333333,
             "#9c179e"
            ],
            [
             0.4444444444444444,
             "#bd3786"
            ],
            [
             0.5555555555555556,
             "#d8576b"
            ],
            [
             0.6666666666666666,
             "#ed7953"
            ],
            [
             0.7777777777777778,
             "#fb9f3a"
            ],
            [
             0.8888888888888888,
             "#fdca26"
            ],
            [
             1,
             "#f0f921"
            ]
           ]
          },
          "colorway": [
           "#636efa",
           "#EF553B",
           "#00cc96",
           "#ab63fa",
           "#FFA15A",
           "#19d3f3",
           "#FF6692",
           "#B6E880",
           "#FF97FF",
           "#FECB52"
          ],
          "font": {
           "color": "#2a3f5f"
          },
          "geo": {
           "bgcolor": "white",
           "lakecolor": "white",
           "landcolor": "#E5ECF6",
           "showlakes": true,
           "showland": true,
           "subunitcolor": "white"
          },
          "hoverlabel": {
           "align": "left"
          },
          "hovermode": "closest",
          "mapbox": {
           "style": "light"
          },
          "paper_bgcolor": "white",
          "plot_bgcolor": "#E5ECF6",
          "polar": {
           "angularaxis": {
            "gridcolor": "white",
            "linecolor": "white",
            "ticks": ""
           },
           "bgcolor": "#E5ECF6",
           "radialaxis": {
            "gridcolor": "white",
            "linecolor": "white",
            "ticks": ""
           }
          },
          "scene": {
           "xaxis": {
            "backgroundcolor": "#E5ECF6",
            "gridcolor": "white",
            "gridwidth": 2,
            "linecolor": "white",
            "showbackground": true,
            "ticks": "",
            "zerolinecolor": "white"
           },
           "yaxis": {
            "backgroundcolor": "#E5ECF6",
            "gridcolor": "white",
            "gridwidth": 2,
            "linecolor": "white",
            "showbackground": true,
            "ticks": "",
            "zerolinecolor": "white"
           },
           "zaxis": {
            "backgroundcolor": "#E5ECF6",
            "gridcolor": "white",
            "gridwidth": 2,
            "linecolor": "white",
            "showbackground": true,
            "ticks": "",
            "zerolinecolor": "white"
           }
          },
          "shapedefaults": {
           "line": {
            "color": "#2a3f5f"
           }
          },
          "ternary": {
           "aaxis": {
            "gridcolor": "white",
            "linecolor": "white",
            "ticks": ""
           },
           "baxis": {
            "gridcolor": "white",
            "linecolor": "white",
            "ticks": ""
           },
           "bgcolor": "#E5ECF6",
           "caxis": {
            "gridcolor": "white",
            "linecolor": "white",
            "ticks": ""
           }
          },
          "title": {
           "x": 0.05
          },
          "xaxis": {
           "automargin": true,
           "gridcolor": "white",
           "linecolor": "white",
           "ticks": "",
           "title": {
            "standoff": 15
           },
           "zerolinecolor": "white",
           "zerolinewidth": 2
          },
          "yaxis": {
           "automargin": true,
           "gridcolor": "white",
           "linecolor": "white",
           "ticks": "",
           "title": {
            "standoff": 15
           },
           "zerolinecolor": "white",
           "zerolinewidth": 2
          }
         }
        },
        "title": {
         "text": "Change in Transportation Expenses (2019 - 2020)"
        }
       }
      }
     },
     "metadata": {},
     "output_type": "display_data"
    }
   ],
   "source": [
    "transport_df = df.drop(df[df.Description !=\"Transportation\"].index).copy()\n",
    "transport_fig = px.choropleth(\n",
    "    locations=transport_df['Abbreviation'],\n",
    "    locationmode=\"USA-states\",\n",
    "    title=\"Change in Transportation Expenses (2019 - 2020)\",\n",
    "    color_continuous_scale=px.colors.diverging.curl,\n",
    "    color = transport_df['Change_in_Spending'],\n",
    "    color_continuous_midpoint = 0,\n",
    "    scope = 'usa')\n",
    "transport_fig.update_layout(coloraxis_colorbar=dict(\n",
    "    title=\"Percent Change\",\n",
    "    thicknessmode=\"pixels\", thickness=50,\n",
    "    lenmode=\"pixels\", len=200,\n",
    "    yanchor=\"top\", y=1,\n",
    "    ticksuffix=\"%\",\n",
    "    dtick=6\n",
    "))\n",
    "transport_fig.show()"
   ]
  },
  {
   "cell_type": "code",
   "execution_count": 96,
   "metadata": {},
   "outputs": [
    {
     "data": {
      "application/vnd.plotly.v1+json": {
       "config": {
        "plotlyServerURL": "https://plot.ly"
       },
       "data": [
        {
         "coloraxis": "coloraxis",
         "geo": "geo",
         "hovertemplate": "locations=%{location}<br>color=%{z}<extra></extra>",
         "locationmode": "USA-states",
         "locations": [
          "AL",
          "AK",
          "AZ",
          "AR",
          "CA",
          "CO",
          "CT",
          "DE",
          "DC",
          "FL",
          "GA",
          "HI",
          "ID",
          "IL",
          "IN",
          "IA",
          "KS",
          "KY",
          "LA",
          "ME",
          "MD",
          "MA",
          "MI",
          "MN",
          "MS",
          "MO",
          "MT",
          "NE",
          "NV",
          "NH",
          "NJ",
          "NM",
          "NY",
          "NC",
          "ND",
          "OH",
          "OK",
          "OR",
          "PA",
          "RI",
          "SC",
          "SD",
          "TN",
          "TX",
          "UT",
          "VT",
          "VA",
          "WA",
          "WV",
          "WI",
          "WY"
         ],
         "name": "",
         "type": "choropleth",
         "z": [
          3.3,
          1.5,
          4.5,
          1.6,
          4.5,
          5.3,
          2.4,
          4.9,
          4.8,
          4.7,
          4.4,
          5,
          6.4,
          1.7,
          3,
          2.4,
          2.4,
          3.2,
          3.2,
          3.8,
          2.4,
          4.2,
          2.3,
          3.4,
          1.1,
          2.6,
          5.4,
          3.4,
          6.8,
          3.2,
          2.8,
          3.1,
          3.2,
          3.7,
          -0.7,
          1.8,
          1.9,
          5.1,
          2.2,
          3.3,
          4.1,
          1.9,
          4.3,
          4,
          5.8,
          3.4,
          2.7,
          5.8,
          0.6,
          2.3,
          0.5
         ]
        }
       ],
       "layout": {
        "coloraxis": {
         "cmid": 0,
         "colorbar": {
          "dtick": 2,
          "len": 200,
          "lenmode": "pixels",
          "thickness": 50,
          "thicknessmode": "pixels",
          "ticksuffix": "%",
          "title": {
           "text": "Percent Change"
          },
          "y": 1,
          "yanchor": "top"
         },
         "colorscale": [
          [
           0,
           "rgb(20, 29, 67)"
          ],
          [
           0.09090909090909091,
           "rgb(28, 72, 93)"
          ],
          [
           0.18181818181818182,
           "rgb(18, 115, 117)"
          ],
          [
           0.2727272727272727,
           "rgb(63, 156, 129)"
          ],
          [
           0.36363636363636365,
           "rgb(153, 189, 156)"
          ],
          [
           0.45454545454545453,
           "rgb(223, 225, 211)"
          ],
          [
           0.5454545454545454,
           "rgb(241, 218, 206)"
          ],
          [
           0.6363636363636364,
           "rgb(224, 160, 137)"
          ],
          [
           0.7272727272727273,
           "rgb(203, 101, 99)"
          ],
          [
           0.8181818181818182,
           "rgb(164, 54, 96)"
          ],
          [
           0.9090909090909091,
           "rgb(111, 23, 91)"
          ],
          [
           1,
           "rgb(51, 13, 53)"
          ]
         ]
        },
        "geo": {
         "center": {},
         "domain": {
          "x": [
           0,
           1
          ],
          "y": [
           0,
           1
          ]
         },
         "scope": "usa"
        },
        "legend": {
         "tracegroupgap": 0
        },
        "template": {
         "data": {
          "bar": [
           {
            "error_x": {
             "color": "#2a3f5f"
            },
            "error_y": {
             "color": "#2a3f5f"
            },
            "marker": {
             "line": {
              "color": "#E5ECF6",
              "width": 0.5
             },
             "pattern": {
              "fillmode": "overlay",
              "size": 10,
              "solidity": 0.2
             }
            },
            "type": "bar"
           }
          ],
          "barpolar": [
           {
            "marker": {
             "line": {
              "color": "#E5ECF6",
              "width": 0.5
             },
             "pattern": {
              "fillmode": "overlay",
              "size": 10,
              "solidity": 0.2
             }
            },
            "type": "barpolar"
           }
          ],
          "carpet": [
           {
            "aaxis": {
             "endlinecolor": "#2a3f5f",
             "gridcolor": "white",
             "linecolor": "white",
             "minorgridcolor": "white",
             "startlinecolor": "#2a3f5f"
            },
            "baxis": {
             "endlinecolor": "#2a3f5f",
             "gridcolor": "white",
             "linecolor": "white",
             "minorgridcolor": "white",
             "startlinecolor": "#2a3f5f"
            },
            "type": "carpet"
           }
          ],
          "choropleth": [
           {
            "colorbar": {
             "outlinewidth": 0,
             "ticks": ""
            },
            "type": "choropleth"
           }
          ],
          "contour": [
           {
            "colorbar": {
             "outlinewidth": 0,
             "ticks": ""
            },
            "colorscale": [
             [
              0,
              "#0d0887"
             ],
             [
              0.1111111111111111,
              "#46039f"
             ],
             [
              0.2222222222222222,
              "#7201a8"
             ],
             [
              0.3333333333333333,
              "#9c179e"
             ],
             [
              0.4444444444444444,
              "#bd3786"
             ],
             [
              0.5555555555555556,
              "#d8576b"
             ],
             [
              0.6666666666666666,
              "#ed7953"
             ],
             [
              0.7777777777777778,
              "#fb9f3a"
             ],
             [
              0.8888888888888888,
              "#fdca26"
             ],
             [
              1,
              "#f0f921"
             ]
            ],
            "type": "contour"
           }
          ],
          "contourcarpet": [
           {
            "colorbar": {
             "outlinewidth": 0,
             "ticks": ""
            },
            "type": "contourcarpet"
           }
          ],
          "heatmap": [
           {
            "colorbar": {
             "outlinewidth": 0,
             "ticks": ""
            },
            "colorscale": [
             [
              0,
              "#0d0887"
             ],
             [
              0.1111111111111111,
              "#46039f"
             ],
             [
              0.2222222222222222,
              "#7201a8"
             ],
             [
              0.3333333333333333,
              "#9c179e"
             ],
             [
              0.4444444444444444,
              "#bd3786"
             ],
             [
              0.5555555555555556,
              "#d8576b"
             ],
             [
              0.6666666666666666,
              "#ed7953"
             ],
             [
              0.7777777777777778,
              "#fb9f3a"
             ],
             [
              0.8888888888888888,
              "#fdca26"
             ],
             [
              1,
              "#f0f921"
             ]
            ],
            "type": "heatmap"
           }
          ],
          "heatmapgl": [
           {
            "colorbar": {
             "outlinewidth": 0,
             "ticks": ""
            },
            "colorscale": [
             [
              0,
              "#0d0887"
             ],
             [
              0.1111111111111111,
              "#46039f"
             ],
             [
              0.2222222222222222,
              "#7201a8"
             ],
             [
              0.3333333333333333,
              "#9c179e"
             ],
             [
              0.4444444444444444,
              "#bd3786"
             ],
             [
              0.5555555555555556,
              "#d8576b"
             ],
             [
              0.6666666666666666,
              "#ed7953"
             ],
             [
              0.7777777777777778,
              "#fb9f3a"
             ],
             [
              0.8888888888888888,
              "#fdca26"
             ],
             [
              1,
              "#f0f921"
             ]
            ],
            "type": "heatmapgl"
           }
          ],
          "histogram": [
           {
            "marker": {
             "pattern": {
              "fillmode": "overlay",
              "size": 10,
              "solidity": 0.2
             }
            },
            "type": "histogram"
           }
          ],
          "histogram2d": [
           {
            "colorbar": {
             "outlinewidth": 0,
             "ticks": ""
            },
            "colorscale": [
             [
              0,
              "#0d0887"
             ],
             [
              0.1111111111111111,
              "#46039f"
             ],
             [
              0.2222222222222222,
              "#7201a8"
             ],
             [
              0.3333333333333333,
              "#9c179e"
             ],
             [
              0.4444444444444444,
              "#bd3786"
             ],
             [
              0.5555555555555556,
              "#d8576b"
             ],
             [
              0.6666666666666666,
              "#ed7953"
             ],
             [
              0.7777777777777778,
              "#fb9f3a"
             ],
             [
              0.8888888888888888,
              "#fdca26"
             ],
             [
              1,
              "#f0f921"
             ]
            ],
            "type": "histogram2d"
           }
          ],
          "histogram2dcontour": [
           {
            "colorbar": {
             "outlinewidth": 0,
             "ticks": ""
            },
            "colorscale": [
             [
              0,
              "#0d0887"
             ],
             [
              0.1111111111111111,
              "#46039f"
             ],
             [
              0.2222222222222222,
              "#7201a8"
             ],
             [
              0.3333333333333333,
              "#9c179e"
             ],
             [
              0.4444444444444444,
              "#bd3786"
             ],
             [
              0.5555555555555556,
              "#d8576b"
             ],
             [
              0.6666666666666666,
              "#ed7953"
             ],
             [
              0.7777777777777778,
              "#fb9f3a"
             ],
             [
              0.8888888888888888,
              "#fdca26"
             ],
             [
              1,
              "#f0f921"
             ]
            ],
            "type": "histogram2dcontour"
           }
          ],
          "mesh3d": [
           {
            "colorbar": {
             "outlinewidth": 0,
             "ticks": ""
            },
            "type": "mesh3d"
           }
          ],
          "parcoords": [
           {
            "line": {
             "colorbar": {
              "outlinewidth": 0,
              "ticks": ""
             }
            },
            "type": "parcoords"
           }
          ],
          "pie": [
           {
            "automargin": true,
            "type": "pie"
           }
          ],
          "scatter": [
           {
            "marker": {
             "colorbar": {
              "outlinewidth": 0,
              "ticks": ""
             }
            },
            "type": "scatter"
           }
          ],
          "scatter3d": [
           {
            "line": {
             "colorbar": {
              "outlinewidth": 0,
              "ticks": ""
             }
            },
            "marker": {
             "colorbar": {
              "outlinewidth": 0,
              "ticks": ""
             }
            },
            "type": "scatter3d"
           }
          ],
          "scattercarpet": [
           {
            "marker": {
             "colorbar": {
              "outlinewidth": 0,
              "ticks": ""
             }
            },
            "type": "scattercarpet"
           }
          ],
          "scattergeo": [
           {
            "marker": {
             "colorbar": {
              "outlinewidth": 0,
              "ticks": ""
             }
            },
            "type": "scattergeo"
           }
          ],
          "scattergl": [
           {
            "marker": {
             "colorbar": {
              "outlinewidth": 0,
              "ticks": ""
             }
            },
            "type": "scattergl"
           }
          ],
          "scattermapbox": [
           {
            "marker": {
             "colorbar": {
              "outlinewidth": 0,
              "ticks": ""
             }
            },
            "type": "scattermapbox"
           }
          ],
          "scatterpolar": [
           {
            "marker": {
             "colorbar": {
              "outlinewidth": 0,
              "ticks": ""
             }
            },
            "type": "scatterpolar"
           }
          ],
          "scatterpolargl": [
           {
            "marker": {
             "colorbar": {
              "outlinewidth": 0,
              "ticks": ""
             }
            },
            "type": "scatterpolargl"
           }
          ],
          "scatterternary": [
           {
            "marker": {
             "colorbar": {
              "outlinewidth": 0,
              "ticks": ""
             }
            },
            "type": "scatterternary"
           }
          ],
          "surface": [
           {
            "colorbar": {
             "outlinewidth": 0,
             "ticks": ""
            },
            "colorscale": [
             [
              0,
              "#0d0887"
             ],
             [
              0.1111111111111111,
              "#46039f"
             ],
             [
              0.2222222222222222,
              "#7201a8"
             ],
             [
              0.3333333333333333,
              "#9c179e"
             ],
             [
              0.4444444444444444,
              "#bd3786"
             ],
             [
              0.5555555555555556,
              "#d8576b"
             ],
             [
              0.6666666666666666,
              "#ed7953"
             ],
             [
              0.7777777777777778,
              "#fb9f3a"
             ],
             [
              0.8888888888888888,
              "#fdca26"
             ],
             [
              1,
              "#f0f921"
             ]
            ],
            "type": "surface"
           }
          ],
          "table": [
           {
            "cells": {
             "fill": {
              "color": "#EBF0F8"
             },
             "line": {
              "color": "white"
             }
            },
            "header": {
             "fill": {
              "color": "#C8D4E3"
             },
             "line": {
              "color": "white"
             }
            },
            "type": "table"
           }
          ]
         },
         "layout": {
          "annotationdefaults": {
           "arrowcolor": "#2a3f5f",
           "arrowhead": 0,
           "arrowwidth": 1
          },
          "autotypenumbers": "strict",
          "coloraxis": {
           "colorbar": {
            "outlinewidth": 0,
            "ticks": ""
           }
          },
          "colorscale": {
           "diverging": [
            [
             0,
             "#8e0152"
            ],
            [
             0.1,
             "#c51b7d"
            ],
            [
             0.2,
             "#de77ae"
            ],
            [
             0.3,
             "#f1b6da"
            ],
            [
             0.4,
             "#fde0ef"
            ],
            [
             0.5,
             "#f7f7f7"
            ],
            [
             0.6,
             "#e6f5d0"
            ],
            [
             0.7,
             "#b8e186"
            ],
            [
             0.8,
             "#7fbc41"
            ],
            [
             0.9,
             "#4d9221"
            ],
            [
             1,
             "#276419"
            ]
           ],
           "sequential": [
            [
             0,
             "#0d0887"
            ],
            [
             0.1111111111111111,
             "#46039f"
            ],
            [
             0.2222222222222222,
             "#7201a8"
            ],
            [
             0.3333333333333333,
             "#9c179e"
            ],
            [
             0.4444444444444444,
             "#bd3786"
            ],
            [
             0.5555555555555556,
             "#d8576b"
            ],
            [
             0.6666666666666666,
             "#ed7953"
            ],
            [
             0.7777777777777778,
             "#fb9f3a"
            ],
            [
             0.8888888888888888,
             "#fdca26"
            ],
            [
             1,
             "#f0f921"
            ]
           ],
           "sequentialminus": [
            [
             0,
             "#0d0887"
            ],
            [
             0.1111111111111111,
             "#46039f"
            ],
            [
             0.2222222222222222,
             "#7201a8"
            ],
            [
             0.3333333333333333,
             "#9c179e"
            ],
            [
             0.4444444444444444,
             "#bd3786"
            ],
            [
             0.5555555555555556,
             "#d8576b"
            ],
            [
             0.6666666666666666,
             "#ed7953"
            ],
            [
             0.7777777777777778,
             "#fb9f3a"
            ],
            [
             0.8888888888888888,
             "#fdca26"
            ],
            [
             1,
             "#f0f921"
            ]
           ]
          },
          "colorway": [
           "#636efa",
           "#EF553B",
           "#00cc96",
           "#ab63fa",
           "#FFA15A",
           "#19d3f3",
           "#FF6692",
           "#B6E880",
           "#FF97FF",
           "#FECB52"
          ],
          "font": {
           "color": "#2a3f5f"
          },
          "geo": {
           "bgcolor": "white",
           "lakecolor": "white",
           "landcolor": "#E5ECF6",
           "showlakes": true,
           "showland": true,
           "subunitcolor": "white"
          },
          "hoverlabel": {
           "align": "left"
          },
          "hovermode": "closest",
          "mapbox": {
           "style": "light"
          },
          "paper_bgcolor": "white",
          "plot_bgcolor": "#E5ECF6",
          "polar": {
           "angularaxis": {
            "gridcolor": "white",
            "linecolor": "white",
            "ticks": ""
           },
           "bgcolor": "#E5ECF6",
           "radialaxis": {
            "gridcolor": "white",
            "linecolor": "white",
            "ticks": ""
           }
          },
          "scene": {
           "xaxis": {
            "backgroundcolor": "#E5ECF6",
            "gridcolor": "white",
            "gridwidth": 2,
            "linecolor": "white",
            "showbackground": true,
            "ticks": "",
            "zerolinecolor": "white"
           },
           "yaxis": {
            "backgroundcolor": "#E5ECF6",
            "gridcolor": "white",
            "gridwidth": 2,
            "linecolor": "white",
            "showbackground": true,
            "ticks": "",
            "zerolinecolor": "white"
           },
           "zaxis": {
            "backgroundcolor": "#E5ECF6",
            "gridcolor": "white",
            "gridwidth": 2,
            "linecolor": "white",
            "showbackground": true,
            "ticks": "",
            "zerolinecolor": "white"
           }
          },
          "shapedefaults": {
           "line": {
            "color": "#2a3f5f"
           }
          },
          "ternary": {
           "aaxis": {
            "gridcolor": "white",
            "linecolor": "white",
            "ticks": ""
           },
           "baxis": {
            "gridcolor": "white",
            "linecolor": "white",
            "ticks": ""
           },
           "bgcolor": "#E5ECF6",
           "caxis": {
            "gridcolor": "white",
            "linecolor": "white",
            "ticks": ""
           }
          },
          "title": {
           "x": 0.05
          },
          "xaxis": {
           "automargin": true,
           "gridcolor": "white",
           "linecolor": "white",
           "ticks": "",
           "title": {
            "standoff": 15
           },
           "zerolinecolor": "white",
           "zerolinewidth": 2
          },
          "yaxis": {
           "automargin": true,
           "gridcolor": "white",
           "linecolor": "white",
           "ticks": "",
           "title": {
            "standoff": 15
           },
           "zerolinecolor": "white",
           "zerolinewidth": 2
          }
         }
        },
        "title": {
         "text": "Change in Housing Expenses (2019 - 2020)"
        }
       }
      }
     },
     "metadata": {},
     "output_type": "display_data"
    }
   ],
   "source": [
    "house_df = df.drop(df[df.Description !=\"Housing\"].index).copy()\n",
    "house_fig = px.choropleth(\n",
    "    locations=house_df['Abbreviation'],\n",
    "    locationmode=\"USA-states\",\n",
    "    title=\"Change in Housing Expenses (2019 - 2020)\",\n",
    "    color_continuous_scale=px.colors.diverging.curl,\n",
    "    color = house_df['Change_in_Spending'],\n",
    "    color_continuous_midpoint = 0,\n",
    "    scope = 'usa')\n",
    "house_fig.update_layout(coloraxis_colorbar=dict(\n",
    "    title=\"Percent Change\",\n",
    "    thicknessmode=\"pixels\", thickness=50,\n",
    "    lenmode=\"pixels\", len=200,\n",
    "    yanchor=\"top\", y=1,\n",
    "    ticksuffix=\"%\",\n",
    "    dtick=2\n",
    "))\n",
    "house_fig.show()"
   ]
  },
  {
   "cell_type": "code",
   "execution_count": 98,
   "metadata": {},
   "outputs": [
    {
     "data": {
      "application/vnd.plotly.v1+json": {
       "config": {
        "plotlyServerURL": "https://plot.ly"
       },
       "data": [
        {
         "coloraxis": "coloraxis",
         "geo": "geo",
         "hovertemplate": "locations=%{location}<br>color=%{z}<extra></extra>",
         "locationmode": "USA-states",
         "locations": [
          "AL",
          "AK",
          "AZ",
          "AR",
          "CA",
          "CO",
          "CT",
          "DE",
          "DC",
          "FL",
          "GA",
          "HI",
          "ID",
          "IL",
          "IN",
          "IA",
          "KS",
          "KY",
          "LA",
          "ME",
          "MD",
          "MA",
          "MI",
          "MN",
          "MS",
          "MO",
          "MT",
          "NE",
          "NV",
          "NH",
          "NJ",
          "NM",
          "NY",
          "NC",
          "ND",
          "OH",
          "OK",
          "OR",
          "PA",
          "RI",
          "SC",
          "SD",
          "TN",
          "TX",
          "UT",
          "VT",
          "VA",
          "WA",
          "WV",
          "WI",
          "WY"
         ],
         "name": "",
         "type": "choropleth",
         "z": [
          11.1,
          6.4,
          12.9,
          12.6,
          11.8,
          12,
          10.2,
          12.8,
          6.5,
          10.8,
          11.9,
          10.9,
          10.5,
          10.2,
          10,
          10.3,
          11.2,
          9.9,
          9.8,
          12.5,
          9.7,
          8.8,
          10.6,
          8.9,
          11.3,
          10.2,
          9.6,
          10.8,
          11.7,
          11.5,
          10,
          11.1,
          9.6,
          15.2,
          7.9,
          9.8,
          11.5,
          13.1,
          8.6,
          10,
          13.1,
          10.8,
          13,
          14.2,
          11.2,
          9.4,
          11.2,
          14.6,
          10,
          8.6,
          10.7
         ]
        }
       ],
       "layout": {
        "coloraxis": {
         "cmid": 0,
         "colorbar": {
          "dtick": 3,
          "len": 200,
          "lenmode": "pixels",
          "thickness": 50,
          "thicknessmode": "pixels",
          "ticksuffix": "%",
          "title": {
           "text": "Percent Change"
          },
          "y": 1,
          "yanchor": "top"
         },
         "colorscale": [
          [
           0,
           "rgb(20, 29, 67)"
          ],
          [
           0.09090909090909091,
           "rgb(28, 72, 93)"
          ],
          [
           0.18181818181818182,
           "rgb(18, 115, 117)"
          ],
          [
           0.2727272727272727,
           "rgb(63, 156, 129)"
          ],
          [
           0.36363636363636365,
           "rgb(153, 189, 156)"
          ],
          [
           0.45454545454545453,
           "rgb(223, 225, 211)"
          ],
          [
           0.5454545454545454,
           "rgb(241, 218, 206)"
          ],
          [
           0.6363636363636364,
           "rgb(224, 160, 137)"
          ],
          [
           0.7272727272727273,
           "rgb(203, 101, 99)"
          ],
          [
           0.8181818181818182,
           "rgb(164, 54, 96)"
          ],
          [
           0.9090909090909091,
           "rgb(111, 23, 91)"
          ],
          [
           1,
           "rgb(51, 13, 53)"
          ]
         ]
        },
        "geo": {
         "center": {},
         "domain": {
          "x": [
           0,
           1
          ],
          "y": [
           0,
           1
          ]
         },
         "scope": "usa"
        },
        "legend": {
         "tracegroupgap": 0
        },
        "template": {
         "data": {
          "bar": [
           {
            "error_x": {
             "color": "#2a3f5f"
            },
            "error_y": {
             "color": "#2a3f5f"
            },
            "marker": {
             "line": {
              "color": "#E5ECF6",
              "width": 0.5
             },
             "pattern": {
              "fillmode": "overlay",
              "size": 10,
              "solidity": 0.2
             }
            },
            "type": "bar"
           }
          ],
          "barpolar": [
           {
            "marker": {
             "line": {
              "color": "#E5ECF6",
              "width": 0.5
             },
             "pattern": {
              "fillmode": "overlay",
              "size": 10,
              "solidity": 0.2
             }
            },
            "type": "barpolar"
           }
          ],
          "carpet": [
           {
            "aaxis": {
             "endlinecolor": "#2a3f5f",
             "gridcolor": "white",
             "linecolor": "white",
             "minorgridcolor": "white",
             "startlinecolor": "#2a3f5f"
            },
            "baxis": {
             "endlinecolor": "#2a3f5f",
             "gridcolor": "white",
             "linecolor": "white",
             "minorgridcolor": "white",
             "startlinecolor": "#2a3f5f"
            },
            "type": "carpet"
           }
          ],
          "choropleth": [
           {
            "colorbar": {
             "outlinewidth": 0,
             "ticks": ""
            },
            "type": "choropleth"
           }
          ],
          "contour": [
           {
            "colorbar": {
             "outlinewidth": 0,
             "ticks": ""
            },
            "colorscale": [
             [
              0,
              "#0d0887"
             ],
             [
              0.1111111111111111,
              "#46039f"
             ],
             [
              0.2222222222222222,
              "#7201a8"
             ],
             [
              0.3333333333333333,
              "#9c179e"
             ],
             [
              0.4444444444444444,
              "#bd3786"
             ],
             [
              0.5555555555555556,
              "#d8576b"
             ],
             [
              0.6666666666666666,
              "#ed7953"
             ],
             [
              0.7777777777777778,
              "#fb9f3a"
             ],
             [
              0.8888888888888888,
              "#fdca26"
             ],
             [
              1,
              "#f0f921"
             ]
            ],
            "type": "contour"
           }
          ],
          "contourcarpet": [
           {
            "colorbar": {
             "outlinewidth": 0,
             "ticks": ""
            },
            "type": "contourcarpet"
           }
          ],
          "heatmap": [
           {
            "colorbar": {
             "outlinewidth": 0,
             "ticks": ""
            },
            "colorscale": [
             [
              0,
              "#0d0887"
             ],
             [
              0.1111111111111111,
              "#46039f"
             ],
             [
              0.2222222222222222,
              "#7201a8"
             ],
             [
              0.3333333333333333,
              "#9c179e"
             ],
             [
              0.4444444444444444,
              "#bd3786"
             ],
             [
              0.5555555555555556,
              "#d8576b"
             ],
             [
              0.6666666666666666,
              "#ed7953"
             ],
             [
              0.7777777777777778,
              "#fb9f3a"
             ],
             [
              0.8888888888888888,
              "#fdca26"
             ],
             [
              1,
              "#f0f921"
             ]
            ],
            "type": "heatmap"
           }
          ],
          "heatmapgl": [
           {
            "colorbar": {
             "outlinewidth": 0,
             "ticks": ""
            },
            "colorscale": [
             [
              0,
              "#0d0887"
             ],
             [
              0.1111111111111111,
              "#46039f"
             ],
             [
              0.2222222222222222,
              "#7201a8"
             ],
             [
              0.3333333333333333,
              "#9c179e"
             ],
             [
              0.4444444444444444,
              "#bd3786"
             ],
             [
              0.5555555555555556,
              "#d8576b"
             ],
             [
              0.6666666666666666,
              "#ed7953"
             ],
             [
              0.7777777777777778,
              "#fb9f3a"
             ],
             [
              0.8888888888888888,
              "#fdca26"
             ],
             [
              1,
              "#f0f921"
             ]
            ],
            "type": "heatmapgl"
           }
          ],
          "histogram": [
           {
            "marker": {
             "pattern": {
              "fillmode": "overlay",
              "size": 10,
              "solidity": 0.2
             }
            },
            "type": "histogram"
           }
          ],
          "histogram2d": [
           {
            "colorbar": {
             "outlinewidth": 0,
             "ticks": ""
            },
            "colorscale": [
             [
              0,
              "#0d0887"
             ],
             [
              0.1111111111111111,
              "#46039f"
             ],
             [
              0.2222222222222222,
              "#7201a8"
             ],
             [
              0.3333333333333333,
              "#9c179e"
             ],
             [
              0.4444444444444444,
              "#bd3786"
             ],
             [
              0.5555555555555556,
              "#d8576b"
             ],
             [
              0.6666666666666666,
              "#ed7953"
             ],
             [
              0.7777777777777778,
              "#fb9f3a"
             ],
             [
              0.8888888888888888,
              "#fdca26"
             ],
             [
              1,
              "#f0f921"
             ]
            ],
            "type": "histogram2d"
           }
          ],
          "histogram2dcontour": [
           {
            "colorbar": {
             "outlinewidth": 0,
             "ticks": ""
            },
            "colorscale": [
             [
              0,
              "#0d0887"
             ],
             [
              0.1111111111111111,
              "#46039f"
             ],
             [
              0.2222222222222222,
              "#7201a8"
             ],
             [
              0.3333333333333333,
              "#9c179e"
             ],
             [
              0.4444444444444444,
              "#bd3786"
             ],
             [
              0.5555555555555556,
              "#d8576b"
             ],
             [
              0.6666666666666666,
              "#ed7953"
             ],
             [
              0.7777777777777778,
              "#fb9f3a"
             ],
             [
              0.8888888888888888,
              "#fdca26"
             ],
             [
              1,
              "#f0f921"
             ]
            ],
            "type": "histogram2dcontour"
           }
          ],
          "mesh3d": [
           {
            "colorbar": {
             "outlinewidth": 0,
             "ticks": ""
            },
            "type": "mesh3d"
           }
          ],
          "parcoords": [
           {
            "line": {
             "colorbar": {
              "outlinewidth": 0,
              "ticks": ""
             }
            },
            "type": "parcoords"
           }
          ],
          "pie": [
           {
            "automargin": true,
            "type": "pie"
           }
          ],
          "scatter": [
           {
            "marker": {
             "colorbar": {
              "outlinewidth": 0,
              "ticks": ""
             }
            },
            "type": "scatter"
           }
          ],
          "scatter3d": [
           {
            "line": {
             "colorbar": {
              "outlinewidth": 0,
              "ticks": ""
             }
            },
            "marker": {
             "colorbar": {
              "outlinewidth": 0,
              "ticks": ""
             }
            },
            "type": "scatter3d"
           }
          ],
          "scattercarpet": [
           {
            "marker": {
             "colorbar": {
              "outlinewidth": 0,
              "ticks": ""
             }
            },
            "type": "scattercarpet"
           }
          ],
          "scattergeo": [
           {
            "marker": {
             "colorbar": {
              "outlinewidth": 0,
              "ticks": ""
             }
            },
            "type": "scattergeo"
           }
          ],
          "scattergl": [
           {
            "marker": {
             "colorbar": {
              "outlinewidth": 0,
              "ticks": ""
             }
            },
            "type": "scattergl"
           }
          ],
          "scattermapbox": [
           {
            "marker": {
             "colorbar": {
              "outlinewidth": 0,
              "ticks": ""
             }
            },
            "type": "scattermapbox"
           }
          ],
          "scatterpolar": [
           {
            "marker": {
             "colorbar": {
              "outlinewidth": 0,
              "ticks": ""
             }
            },
            "type": "scatterpolar"
           }
          ],
          "scatterpolargl": [
           {
            "marker": {
             "colorbar": {
              "outlinewidth": 0,
              "ticks": ""
             }
            },
            "type": "scatterpolargl"
           }
          ],
          "scatterternary": [
           {
            "marker": {
             "colorbar": {
              "outlinewidth": 0,
              "ticks": ""
             }
            },
            "type": "scatterternary"
           }
          ],
          "surface": [
           {
            "colorbar": {
             "outlinewidth": 0,
             "ticks": ""
            },
            "colorscale": [
             [
              0,
              "#0d0887"
             ],
             [
              0.1111111111111111,
              "#46039f"
             ],
             [
              0.2222222222222222,
              "#7201a8"
             ],
             [
              0.3333333333333333,
              "#9c179e"
             ],
             [
              0.4444444444444444,
              "#bd3786"
             ],
             [
              0.5555555555555556,
              "#d8576b"
             ],
             [
              0.6666666666666666,
              "#ed7953"
             ],
             [
              0.7777777777777778,
              "#fb9f3a"
             ],
             [
              0.8888888888888888,
              "#fdca26"
             ],
             [
              1,
              "#f0f921"
             ]
            ],
            "type": "surface"
           }
          ],
          "table": [
           {
            "cells": {
             "fill": {
              "color": "#EBF0F8"
             },
             "line": {
              "color": "white"
             }
            },
            "header": {
             "fill": {
              "color": "#C8D4E3"
             },
             "line": {
              "color": "white"
             }
            },
            "type": "table"
           }
          ]
         },
         "layout": {
          "annotationdefaults": {
           "arrowcolor": "#2a3f5f",
           "arrowhead": 0,
           "arrowwidth": 1
          },
          "autotypenumbers": "strict",
          "coloraxis": {
           "colorbar": {
            "outlinewidth": 0,
            "ticks": ""
           }
          },
          "colorscale": {
           "diverging": [
            [
             0,
             "#8e0152"
            ],
            [
             0.1,
             "#c51b7d"
            ],
            [
             0.2,
             "#de77ae"
            ],
            [
             0.3,
             "#f1b6da"
            ],
            [
             0.4,
             "#fde0ef"
            ],
            [
             0.5,
             "#f7f7f7"
            ],
            [
             0.6,
             "#e6f5d0"
            ],
            [
             0.7,
             "#b8e186"
            ],
            [
             0.8,
             "#7fbc41"
            ],
            [
             0.9,
             "#4d9221"
            ],
            [
             1,
             "#276419"
            ]
           ],
           "sequential": [
            [
             0,
             "#0d0887"
            ],
            [
             0.1111111111111111,
             "#46039f"
            ],
            [
             0.2222222222222222,
             "#7201a8"
            ],
            [
             0.3333333333333333,
             "#9c179e"
            ],
            [
             0.4444444444444444,
             "#bd3786"
            ],
            [
             0.5555555555555556,
             "#d8576b"
            ],
            [
             0.6666666666666666,
             "#ed7953"
            ],
            [
             0.7777777777777778,
             "#fb9f3a"
            ],
            [
             0.8888888888888888,
             "#fdca26"
            ],
            [
             1,
             "#f0f921"
            ]
           ],
           "sequentialminus": [
            [
             0,
             "#0d0887"
            ],
            [
             0.1111111111111111,
             "#46039f"
            ],
            [
             0.2222222222222222,
             "#7201a8"
            ],
            [
             0.3333333333333333,
             "#9c179e"
            ],
            [
             0.4444444444444444,
             "#bd3786"
            ],
            [
             0.5555555555555556,
             "#d8576b"
            ],
            [
             0.6666666666666666,
             "#ed7953"
            ],
            [
             0.7777777777777778,
             "#fb9f3a"
            ],
            [
             0.8888888888888888,
             "#fdca26"
            ],
            [
             1,
             "#f0f921"
            ]
           ]
          },
          "colorway": [
           "#636efa",
           "#EF553B",
           "#00cc96",
           "#ab63fa",
           "#FFA15A",
           "#19d3f3",
           "#FF6692",
           "#B6E880",
           "#FF97FF",
           "#FECB52"
          ],
          "font": {
           "color": "#2a3f5f"
          },
          "geo": {
           "bgcolor": "white",
           "lakecolor": "white",
           "landcolor": "#E5ECF6",
           "showlakes": true,
           "showland": true,
           "subunitcolor": "white"
          },
          "hoverlabel": {
           "align": "left"
          },
          "hovermode": "closest",
          "mapbox": {
           "style": "light"
          },
          "paper_bgcolor": "white",
          "plot_bgcolor": "#E5ECF6",
          "polar": {
           "angularaxis": {
            "gridcolor": "white",
            "linecolor": "white",
            "ticks": ""
           },
           "bgcolor": "#E5ECF6",
           "radialaxis": {
            "gridcolor": "white",
            "linecolor": "white",
            "ticks": ""
           }
          },
          "scene": {
           "xaxis": {
            "backgroundcolor": "#E5ECF6",
            "gridcolor": "white",
            "gridwidth": 2,
            "linecolor": "white",
            "showbackground": true,
            "ticks": "",
            "zerolinecolor": "white"
           },
           "yaxis": {
            "backgroundcolor": "#E5ECF6",
            "gridcolor": "white",
            "gridwidth": 2,
            "linecolor": "white",
            "showbackground": true,
            "ticks": "",
            "zerolinecolor": "white"
           },
           "zaxis": {
            "backgroundcolor": "#E5ECF6",
            "gridcolor": "white",
            "gridwidth": 2,
            "linecolor": "white",
            "showbackground": true,
            "ticks": "",
            "zerolinecolor": "white"
           }
          },
          "shapedefaults": {
           "line": {
            "color": "#2a3f5f"
           }
          },
          "ternary": {
           "aaxis": {
            "gridcolor": "white",
            "linecolor": "white",
            "ticks": ""
           },
           "baxis": {
            "gridcolor": "white",
            "linecolor": "white",
            "ticks": ""
           },
           "bgcolor": "#E5ECF6",
           "caxis": {
            "gridcolor": "white",
            "linecolor": "white",
            "ticks": ""
           }
          },
          "title": {
           "x": 0.05
          },
          "xaxis": {
           "automargin": true,
           "gridcolor": "white",
           "linecolor": "white",
           "ticks": "",
           "title": {
            "standoff": 15
           },
           "zerolinecolor": "white",
           "zerolinewidth": 2
          },
          "yaxis": {
           "automargin": true,
           "gridcolor": "white",
           "linecolor": "white",
           "ticks": "",
           "title": {
            "standoff": 15
           },
           "zerolinecolor": "white",
           "zerolinewidth": 2
          }
         }
        },
        "title": {
         "text": "Change in Food Expenses (2019 - 2020)"
        }
       }
      }
     },
     "metadata": {},
     "output_type": "display_data"
    }
   ],
   "source": [
    "food_df = df.drop(df[df.Description !=\"Food\"].index).copy()\n",
    "food_fig = px.choropleth(\n",
    "    locations=food_df['Abbreviation'],\n",
    "    locationmode=\"USA-states\",\n",
    "    title=\"Change in Food Expenses (2019 - 2020)\",\n",
    "    color_continuous_scale=px.colors.diverging.curl,\n",
    "    color = food_df['Change_in_Spending'],\n",
    "    color_continuous_midpoint = 0,\n",
    "    scope = 'usa')\n",
    "food_fig.update_layout(coloraxis_colorbar=dict(\n",
    "    title=\"Percent Change\",\n",
    "    thicknessmode=\"pixels\", thickness=50,\n",
    "    lenmode=\"pixels\", len=200,\n",
    "    yanchor=\"top\", y=1,\n",
    "    ticksuffix=\"%\",\n",
    "    dtick=3\n",
    "))\n",
    "food_fig.show()"
   ]
  },
  {
   "cell_type": "code",
   "execution_count": 19,
   "metadata": {},
   "outputs": [
    {
     "name": "stdout",
     "output_type": "stream",
     "text": [
      "<table border=\"1\" class=\"dataframe\">\n",
      "  <thead>\n",
      "    <tr style=\"text-align: right;\">\n",
      "      <th></th>\n",
      "      <th>GeoFips</th>\n",
      "      <th>GeoName</th>\n",
      "      <th>LineCode</th>\n",
      "      <th>Description</th>\n",
      "      <th>Change_in_Spending</th>\n",
      "      <th>Abbreviation</th>\n",
      "    </tr>\n",
      "  </thead>\n",
      "  <tbody>\n",
      "    <tr>\n",
      "      <th>0</th>\n",
      "      <td>1000</td>\n",
      "      <td>Alabama</td>\n",
      "      <td>3</td>\n",
      "      <td>Food</td>\n",
      "      <td>11.1</td>\n",
      "      <td>AL</td>\n",
      "    </tr>\n",
      "    <tr>\n",
      "      <th>1</th>\n",
      "      <td>1000</td>\n",
      "      <td>Alabama</td>\n",
      "      <td>18</td>\n",
      "      <td>Housing</td>\n",
      "      <td>3.3</td>\n",
      "      <td>AL</td>\n",
      "    </tr>\n",
      "    <tr>\n",
      "      <th>2</th>\n",
      "      <td>1000</td>\n",
      "      <td>Alabama</td>\n",
      "      <td>37</td>\n",
      "      <td>Health</td>\n",
      "      <td>-3.5</td>\n",
      "      <td>AL</td>\n",
      "    </tr>\n",
      "    <tr>\n",
      "      <th>3</th>\n",
      "      <td>1000</td>\n",
      "      <td>Alabama</td>\n",
      "      <td>53</td>\n",
      "      <td>Transportation</td>\n",
      "      <td>-7.2</td>\n",
      "      <td>AL</td>\n",
      "    </tr>\n",
      "    <tr>\n",
      "      <th>4</th>\n",
      "      <td>2000</td>\n",
      "      <td>Alaska</td>\n",
      "      <td>3</td>\n",
      "      <td>Food</td>\n",
      "      <td>6.4</td>\n",
      "      <td>AK</td>\n",
      "    </tr>\n",
      "    <tr>\n",
      "      <th>5</th>\n",
      "      <td>2000</td>\n",
      "      <td>Alaska</td>\n",
      "      <td>18</td>\n",
      "      <td>Housing</td>\n",
      "      <td>1.5</td>\n",
      "      <td>AK</td>\n",
      "    </tr>\n",
      "    <tr>\n",
      "      <th>6</th>\n",
      "      <td>2000</td>\n",
      "      <td>Alaska</td>\n",
      "      <td>37</td>\n",
      "      <td>Health</td>\n",
      "      <td>-8.6</td>\n",
      "      <td>AK</td>\n",
      "    </tr>\n",
      "    <tr>\n",
      "      <th>7</th>\n",
      "      <td>2000</td>\n",
      "      <td>Alaska</td>\n",
      "      <td>53</td>\n",
      "      <td>Transportation</td>\n",
      "      <td>-12.2</td>\n",
      "      <td>AK</td>\n",
      "    </tr>\n",
      "    <tr>\n",
      "      <th>8</th>\n",
      "      <td>4000</td>\n",
      "      <td>Arizona</td>\n",
      "      <td>3</td>\n",
      "      <td>Food</td>\n",
      "      <td>12.9</td>\n",
      "      <td>AZ</td>\n",
      "    </tr>\n",
      "    <tr>\n",
      "      <th>9</th>\n",
      "      <td>4000</td>\n",
      "      <td>Arizona</td>\n",
      "      <td>18</td>\n",
      "      <td>Housing</td>\n",
      "      <td>4.5</td>\n",
      "      <td>AZ</td>\n",
      "    </tr>\n",
      "    <tr>\n",
      "      <th>10</th>\n",
      "      <td>4000</td>\n",
      "      <td>Arizona</td>\n",
      "      <td>37</td>\n",
      "      <td>Health</td>\n",
      "      <td>-1.1</td>\n",
      "      <td>AZ</td>\n",
      "    </tr>\n",
      "    <tr>\n",
      "      <th>11</th>\n",
      "      <td>4000</td>\n",
      "      <td>Arizona</td>\n",
      "      <td>53</td>\n",
      "      <td>Transportation</td>\n",
      "      <td>-11.5</td>\n",
      "      <td>AZ</td>\n",
      "    </tr>\n",
      "    <tr>\n",
      "      <th>12</th>\n",
      "      <td>5000</td>\n",
      "      <td>Arkansas</td>\n",
      "      <td>3</td>\n",
      "      <td>Food</td>\n",
      "      <td>12.6</td>\n",
      "      <td>AR</td>\n",
      "    </tr>\n",
      "    <tr>\n",
      "      <th>13</th>\n",
      "      <td>5000</td>\n",
      "      <td>Arkansas</td>\n",
      "      <td>18</td>\n",
      "      <td>Housing</td>\n",
      "      <td>1.6</td>\n",
      "      <td>AR</td>\n",
      "    </tr>\n",
      "    <tr>\n",
      "      <th>14</th>\n",
      "      <td>5000</td>\n",
      "      <td>Arkansas</td>\n",
      "      <td>37</td>\n",
      "      <td>Health</td>\n",
      "      <td>-3.0</td>\n",
      "      <td>AR</td>\n",
      "    </tr>\n",
      "    <tr>\n",
      "      <th>15</th>\n",
      "      <td>5000</td>\n",
      "      <td>Arkansas</td>\n",
      "      <td>53</td>\n",
      "      <td>Transportation</td>\n",
      "      <td>-7.2</td>\n",
      "      <td>AR</td>\n",
      "    </tr>\n",
      "    <tr>\n",
      "      <th>16</th>\n",
      "      <td>6000</td>\n",
      "      <td>California</td>\n",
      "      <td>3</td>\n",
      "      <td>Food</td>\n",
      "      <td>11.8</td>\n",
      "      <td>CA</td>\n",
      "    </tr>\n",
      "    <tr>\n",
      "      <th>17</th>\n",
      "      <td>6000</td>\n",
      "      <td>California</td>\n",
      "      <td>18</td>\n",
      "      <td>Housing</td>\n",
      "      <td>4.5</td>\n",
      "      <td>CA</td>\n",
      "    </tr>\n",
      "    <tr>\n",
      "      <th>18</th>\n",
      "      <td>6000</td>\n",
      "      <td>California</td>\n",
      "      <td>37</td>\n",
      "      <td>Health</td>\n",
      "      <td>-3.8</td>\n",
      "      <td>CA</td>\n",
      "    </tr>\n",
      "    <tr>\n",
      "      <th>19</th>\n",
      "      <td>6000</td>\n",
      "      <td>California</td>\n",
      "      <td>53</td>\n",
      "      <td>Transportation</td>\n",
      "      <td>-19.7</td>\n",
      "      <td>CA</td>\n",
      "    </tr>\n",
      "    <tr>\n",
      "      <th>20</th>\n",
      "      <td>8000</td>\n",
      "      <td>Colorado</td>\n",
      "      <td>3</td>\n",
      "      <td>Food</td>\n",
      "      <td>12.0</td>\n",
      "      <td>CO</td>\n",
      "    </tr>\n",
      "    <tr>\n",
      "      <th>21</th>\n",
      "      <td>8000</td>\n",
      "      <td>Colorado</td>\n",
      "      <td>18</td>\n",
      "      <td>Housing</td>\n",
      "      <td>5.3</td>\n",
      "      <td>CO</td>\n",
      "    </tr>\n",
      "    <tr>\n",
      "      <th>22</th>\n",
      "      <td>8000</td>\n",
      "      <td>Colorado</td>\n",
      "      <td>37</td>\n",
      "      <td>Health</td>\n",
      "      <td>-2.5</td>\n",
      "      <td>CO</td>\n",
      "    </tr>\n",
      "    <tr>\n",
      "      <th>23</th>\n",
      "      <td>8000</td>\n",
      "      <td>Colorado</td>\n",
      "      <td>53</td>\n",
      "      <td>Transportation</td>\n",
      "      <td>-12.0</td>\n",
      "      <td>CO</td>\n",
      "    </tr>\n",
      "    <tr>\n",
      "      <th>24</th>\n",
      "      <td>9000</td>\n",
      "      <td>Connecticut</td>\n",
      "      <td>3</td>\n",
      "      <td>Food</td>\n",
      "      <td>10.2</td>\n",
      "      <td>CT</td>\n",
      "    </tr>\n",
      "    <tr>\n",
      "      <th>25</th>\n",
      "      <td>9000</td>\n",
      "      <td>Connecticut</td>\n",
      "      <td>18</td>\n",
      "      <td>Housing</td>\n",
      "      <td>2.4</td>\n",
      "      <td>CT</td>\n",
      "    </tr>\n",
      "    <tr>\n",
      "      <th>26</th>\n",
      "      <td>9000</td>\n",
      "      <td>Connecticut</td>\n",
      "      <td>37</td>\n",
      "      <td>Health</td>\n",
      "      <td>-4.1</td>\n",
      "      <td>CT</td>\n",
      "    </tr>\n",
      "    <tr>\n",
      "      <th>27</th>\n",
      "      <td>9000</td>\n",
      "      <td>Connecticut</td>\n",
      "      <td>53</td>\n",
      "      <td>Transportation</td>\n",
      "      <td>-21.6</td>\n",
      "      <td>CT</td>\n",
      "    </tr>\n",
      "    <tr>\n",
      "      <th>28</th>\n",
      "      <td>10000</td>\n",
      "      <td>Delaware</td>\n",
      "      <td>3</td>\n",
      "      <td>Food</td>\n",
      "      <td>12.8</td>\n",
      "      <td>DE</td>\n",
      "    </tr>\n",
      "    <tr>\n",
      "      <th>29</th>\n",
      "      <td>10000</td>\n",
      "      <td>Delaware</td>\n",
      "      <td>18</td>\n",
      "      <td>Housing</td>\n",
      "      <td>4.9</td>\n",
      "      <td>DE</td>\n",
      "    </tr>\n",
      "    <tr>\n",
      "      <th>30</th>\n",
      "      <td>10000</td>\n",
      "      <td>Delaware</td>\n",
      "      <td>37</td>\n",
      "      <td>Health</td>\n",
      "      <td>-5.5</td>\n",
      "      <td>DE</td>\n",
      "    </tr>\n",
      "    <tr>\n",
      "      <th>31</th>\n",
      "      <td>10000</td>\n",
      "      <td>Delaware</td>\n",
      "      <td>53</td>\n",
      "      <td>Transportation</td>\n",
      "      <td>-12.7</td>\n",
      "      <td>DE</td>\n",
      "    </tr>\n",
      "    <tr>\n",
      "      <th>32</th>\n",
      "      <td>11000</td>\n",
      "      <td>Washington, D.C.</td>\n",
      "      <td>3</td>\n",
      "      <td>Food</td>\n",
      "      <td>6.5</td>\n",
      "      <td>DC</td>\n",
      "    </tr>\n",
      "    <tr>\n",
      "      <th>33</th>\n",
      "      <td>11000</td>\n",
      "      <td>Washington, D.C.</td>\n",
      "      <td>18</td>\n",
      "      <td>Housing</td>\n",
      "      <td>4.8</td>\n",
      "      <td>DC</td>\n",
      "    </tr>\n",
      "    <tr>\n",
      "      <th>34</th>\n",
      "      <td>11000</td>\n",
      "      <td>Washington, D.C.</td>\n",
      "      <td>37</td>\n",
      "      <td>Health</td>\n",
      "      <td>-6.1</td>\n",
      "      <td>DC</td>\n",
      "    </tr>\n",
      "    <tr>\n",
      "      <th>35</th>\n",
      "      <td>11000</td>\n",
      "      <td>Washington, D.C.</td>\n",
      "      <td>53</td>\n",
      "      <td>Transportation</td>\n",
      "      <td>-21.1</td>\n",
      "      <td>DC</td>\n",
      "    </tr>\n",
      "    <tr>\n",
      "      <th>36</th>\n",
      "      <td>12000</td>\n",
      "      <td>Florida</td>\n",
      "      <td>3</td>\n",
      "      <td>Food</td>\n",
      "      <td>10.8</td>\n",
      "      <td>FL</td>\n",
      "    </tr>\n",
      "    <tr>\n",
      "      <th>37</th>\n",
      "      <td>12000</td>\n",
      "      <td>Florida</td>\n",
      "      <td>18</td>\n",
      "      <td>Housing</td>\n",
      "      <td>4.7</td>\n",
      "      <td>FL</td>\n",
      "    </tr>\n",
      "    <tr>\n",
      "      <th>38</th>\n",
      "      <td>12000</td>\n",
      "      <td>Florida</td>\n",
      "      <td>37</td>\n",
      "      <td>Health</td>\n",
      "      <td>-3.1</td>\n",
      "      <td>FL</td>\n",
      "    </tr>\n",
      "    <tr>\n",
      "      <th>39</th>\n",
      "      <td>12000</td>\n",
      "      <td>Florida</td>\n",
      "      <td>53</td>\n",
      "      <td>Transportation</td>\n",
      "      <td>-13.9</td>\n",
      "      <td>FL</td>\n",
      "    </tr>\n",
      "    <tr>\n",
      "      <th>40</th>\n",
      "      <td>13000</td>\n",
      "      <td>Georgia</td>\n",
      "      <td>3</td>\n",
      "      <td>Food</td>\n",
      "      <td>11.9</td>\n",
      "      <td>GA</td>\n",
      "    </tr>\n",
      "    <tr>\n",
      "      <th>41</th>\n",
      "      <td>13000</td>\n",
      "      <td>Georgia</td>\n",
      "      <td>18</td>\n",
      "      <td>Housing</td>\n",
      "      <td>4.4</td>\n",
      "      <td>GA</td>\n",
      "    </tr>\n",
      "    <tr>\n",
      "      <th>42</th>\n",
      "      <td>13000</td>\n",
      "      <td>Georgia</td>\n",
      "      <td>37</td>\n",
      "      <td>Health</td>\n",
      "      <td>-4.3</td>\n",
      "      <td>GA</td>\n",
      "    </tr>\n",
      "    <tr>\n",
      "      <th>43</th>\n",
      "      <td>13000</td>\n",
      "      <td>Georgia</td>\n",
      "      <td>53</td>\n",
      "      <td>Transportation</td>\n",
      "      <td>-13.2</td>\n",
      "      <td>GA</td>\n",
      "    </tr>\n",
      "    <tr>\n",
      "      <th>44</th>\n",
      "      <td>15000</td>\n",
      "      <td>Hawaii</td>\n",
      "      <td>3</td>\n",
      "      <td>Food</td>\n",
      "      <td>10.9</td>\n",
      "      <td>HI</td>\n",
      "    </tr>\n",
      "    <tr>\n",
      "      <th>45</th>\n",
      "      <td>15000</td>\n",
      "      <td>Hawaii</td>\n",
      "      <td>18</td>\n",
      "      <td>Housing</td>\n",
      "      <td>5.0</td>\n",
      "      <td>HI</td>\n",
      "    </tr>\n",
      "    <tr>\n",
      "      <th>46</th>\n",
      "      <td>15000</td>\n",
      "      <td>Hawaii</td>\n",
      "      <td>37</td>\n",
      "      <td>Health</td>\n",
      "      <td>-3.3</td>\n",
      "      <td>HI</td>\n",
      "    </tr>\n",
      "    <tr>\n",
      "      <th>47</th>\n",
      "      <td>15000</td>\n",
      "      <td>Hawaii</td>\n",
      "      <td>53</td>\n",
      "      <td>Transportation</td>\n",
      "      <td>-24.2</td>\n",
      "      <td>HI</td>\n",
      "    </tr>\n",
      "    <tr>\n",
      "      <th>48</th>\n",
      "      <td>16000</td>\n",
      "      <td>Idaho</td>\n",
      "      <td>3</td>\n",
      "      <td>Food</td>\n",
      "      <td>10.5</td>\n",
      "      <td>ID</td>\n",
      "    </tr>\n",
      "    <tr>\n",
      "      <th>49</th>\n",
      "      <td>16000</td>\n",
      "      <td>Idaho</td>\n",
      "      <td>18</td>\n",
      "      <td>Housing</td>\n",
      "      <td>6.4</td>\n",
      "      <td>ID</td>\n",
      "    </tr>\n",
      "    <tr>\n",
      "      <th>50</th>\n",
      "      <td>16000</td>\n",
      "      <td>Idaho</td>\n",
      "      <td>37</td>\n",
      "      <td>Health</td>\n",
      "      <td>-4.0</td>\n",
      "      <td>ID</td>\n",
      "    </tr>\n",
      "    <tr>\n",
      "      <th>51</th>\n",
      "      <td>16000</td>\n",
      "      <td>Idaho</td>\n",
      "      <td>53</td>\n",
      "      <td>Transportation</td>\n",
      "      <td>-6.5</td>\n",
      "      <td>ID</td>\n",
      "    </tr>\n",
      "    <tr>\n",
      "      <th>52</th>\n",
      "      <td>17000</td>\n",
      "      <td>Illinois</td>\n",
      "      <td>3</td>\n",
      "      <td>Food</td>\n",
      "      <td>10.2</td>\n",
      "      <td>IL</td>\n",
      "    </tr>\n",
      "    <tr>\n",
      "      <th>53</th>\n",
      "      <td>17000</td>\n",
      "      <td>Illinois</td>\n",
      "      <td>18</td>\n",
      "      <td>Housing</td>\n",
      "      <td>1.7</td>\n",
      "      <td>IL</td>\n",
      "    </tr>\n",
      "    <tr>\n",
      "      <th>54</th>\n",
      "      <td>17000</td>\n",
      "      <td>Illinois</td>\n",
      "      <td>37</td>\n",
      "      <td>Health</td>\n",
      "      <td>-4.3</td>\n",
      "      <td>IL</td>\n",
      "    </tr>\n",
      "    <tr>\n",
      "      <th>55</th>\n",
      "      <td>17000</td>\n",
      "      <td>Illinois</td>\n",
      "      <td>53</td>\n",
      "      <td>Transportation</td>\n",
      "      <td>-18.6</td>\n",
      "      <td>IL</td>\n",
      "    </tr>\n",
      "    <tr>\n",
      "      <th>56</th>\n",
      "      <td>18000</td>\n",
      "      <td>Indiana</td>\n",
      "      <td>3</td>\n",
      "      <td>Food</td>\n",
      "      <td>10.0</td>\n",
      "      <td>IN</td>\n",
      "    </tr>\n",
      "    <tr>\n",
      "      <th>57</th>\n",
      "      <td>18000</td>\n",
      "      <td>Indiana</td>\n",
      "      <td>18</td>\n",
      "      <td>Housing</td>\n",
      "      <td>3.0</td>\n",
      "      <td>IN</td>\n",
      "    </tr>\n",
      "    <tr>\n",
      "      <th>58</th>\n",
      "      <td>18000</td>\n",
      "      <td>Indiana</td>\n",
      "      <td>37</td>\n",
      "      <td>Health</td>\n",
      "      <td>-3.5</td>\n",
      "      <td>IN</td>\n",
      "    </tr>\n",
      "    <tr>\n",
      "      <th>59</th>\n",
      "      <td>18000</td>\n",
      "      <td>Indiana</td>\n",
      "      <td>53</td>\n",
      "      <td>Transportation</td>\n",
      "      <td>-10.2</td>\n",
      "      <td>IN</td>\n",
      "    </tr>\n",
      "    <tr>\n",
      "      <th>60</th>\n",
      "      <td>19000</td>\n",
      "      <td>Iowa</td>\n",
      "      <td>3</td>\n",
      "      <td>Food</td>\n",
      "      <td>10.3</td>\n",
      "      <td>IA</td>\n",
      "    </tr>\n",
      "    <tr>\n",
      "      <th>61</th>\n",
      "      <td>19000</td>\n",
      "      <td>Iowa</td>\n",
      "      <td>18</td>\n",
      "      <td>Housing</td>\n",
      "      <td>2.4</td>\n",
      "      <td>IA</td>\n",
      "    </tr>\n",
      "    <tr>\n",
      "      <th>62</th>\n",
      "      <td>19000</td>\n",
      "      <td>Iowa</td>\n",
      "      <td>37</td>\n",
      "      <td>Health</td>\n",
      "      <td>-5.7</td>\n",
      "      <td>IA</td>\n",
      "    </tr>\n",
      "    <tr>\n",
      "      <th>63</th>\n",
      "      <td>19000</td>\n",
      "      <td>Iowa</td>\n",
      "      <td>53</td>\n",
      "      <td>Transportation</td>\n",
      "      <td>-8.0</td>\n",
      "      <td>IA</td>\n",
      "    </tr>\n",
      "    <tr>\n",
      "      <th>64</th>\n",
      "      <td>20000</td>\n",
      "      <td>Kansas</td>\n",
      "      <td>3</td>\n",
      "      <td>Food</td>\n",
      "      <td>11.2</td>\n",
      "      <td>KS</td>\n",
      "    </tr>\n",
      "    <tr>\n",
      "      <th>65</th>\n",
      "      <td>20000</td>\n",
      "      <td>Kansas</td>\n",
      "      <td>18</td>\n",
      "      <td>Housing</td>\n",
      "      <td>2.4</td>\n",
      "      <td>KS</td>\n",
      "    </tr>\n",
      "    <tr>\n",
      "      <th>66</th>\n",
      "      <td>20000</td>\n",
      "      <td>Kansas</td>\n",
      "      <td>37</td>\n",
      "      <td>Health</td>\n",
      "      <td>-2.9</td>\n",
      "      <td>KS</td>\n",
      "    </tr>\n",
      "    <tr>\n",
      "      <th>67</th>\n",
      "      <td>20000</td>\n",
      "      <td>Kansas</td>\n",
      "      <td>53</td>\n",
      "      <td>Transportation</td>\n",
      "      <td>-11.5</td>\n",
      "      <td>KS</td>\n",
      "    </tr>\n",
      "    <tr>\n",
      "      <th>68</th>\n",
      "      <td>21000</td>\n",
      "      <td>Kentucky</td>\n",
      "      <td>3</td>\n",
      "      <td>Food</td>\n",
      "      <td>9.9</td>\n",
      "      <td>KY</td>\n",
      "    </tr>\n",
      "    <tr>\n",
      "      <th>69</th>\n",
      "      <td>21000</td>\n",
      "      <td>Kentucky</td>\n",
      "      <td>18</td>\n",
      "      <td>Housing</td>\n",
      "      <td>3.2</td>\n",
      "      <td>KY</td>\n",
      "    </tr>\n",
      "    <tr>\n",
      "      <th>70</th>\n",
      "      <td>21000</td>\n",
      "      <td>Kentucky</td>\n",
      "      <td>37</td>\n",
      "      <td>Health</td>\n",
      "      <td>-3.2</td>\n",
      "      <td>KY</td>\n",
      "    </tr>\n",
      "    <tr>\n",
      "      <th>71</th>\n",
      "      <td>21000</td>\n",
      "      <td>Kentucky</td>\n",
      "      <td>53</td>\n",
      "      <td>Transportation</td>\n",
      "      <td>-10.5</td>\n",
      "      <td>KY</td>\n",
      "    </tr>\n",
      "    <tr>\n",
      "      <th>72</th>\n",
      "      <td>22000</td>\n",
      "      <td>Louisiana</td>\n",
      "      <td>3</td>\n",
      "      <td>Food</td>\n",
      "      <td>9.8</td>\n",
      "      <td>LA</td>\n",
      "    </tr>\n",
      "    <tr>\n",
      "      <th>73</th>\n",
      "      <td>22000</td>\n",
      "      <td>Louisiana</td>\n",
      "      <td>18</td>\n",
      "      <td>Housing</td>\n",
      "      <td>3.2</td>\n",
      "      <td>LA</td>\n",
      "    </tr>\n",
      "    <tr>\n",
      "      <th>74</th>\n",
      "      <td>22000</td>\n",
      "      <td>Louisiana</td>\n",
      "      <td>37</td>\n",
      "      <td>Health</td>\n",
      "      <td>-2.5</td>\n",
      "      <td>LA</td>\n",
      "    </tr>\n",
      "    <tr>\n",
      "      <th>75</th>\n",
      "      <td>22000</td>\n",
      "      <td>Louisiana</td>\n",
      "      <td>53</td>\n",
      "      <td>Transportation</td>\n",
      "      <td>-10.3</td>\n",
      "      <td>LA</td>\n",
      "    </tr>\n",
      "    <tr>\n",
      "      <th>76</th>\n",
      "      <td>23000</td>\n",
      "      <td>Maine</td>\n",
      "      <td>3</td>\n",
      "      <td>Food</td>\n",
      "      <td>12.5</td>\n",
      "      <td>ME</td>\n",
      "    </tr>\n",
      "    <tr>\n",
      "      <th>77</th>\n",
      "      <td>23000</td>\n",
      "      <td>Maine</td>\n",
      "      <td>18</td>\n",
      "      <td>Housing</td>\n",
      "      <td>3.8</td>\n",
      "      <td>ME</td>\n",
      "    </tr>\n",
      "    <tr>\n",
      "      <th>78</th>\n",
      "      <td>23000</td>\n",
      "      <td>Maine</td>\n",
      "      <td>37</td>\n",
      "      <td>Health</td>\n",
      "      <td>-3.1</td>\n",
      "      <td>ME</td>\n",
      "    </tr>\n",
      "    <tr>\n",
      "      <th>79</th>\n",
      "      <td>23000</td>\n",
      "      <td>Maine</td>\n",
      "      <td>53</td>\n",
      "      <td>Transportation</td>\n",
      "      <td>-11.4</td>\n",
      "      <td>ME</td>\n",
      "    </tr>\n",
      "    <tr>\n",
      "      <th>80</th>\n",
      "      <td>24000</td>\n",
      "      <td>Maryland</td>\n",
      "      <td>3</td>\n",
      "      <td>Food</td>\n",
      "      <td>9.7</td>\n",
      "      <td>MD</td>\n",
      "    </tr>\n",
      "    <tr>\n",
      "      <th>81</th>\n",
      "      <td>24000</td>\n",
      "      <td>Maryland</td>\n",
      "      <td>18</td>\n",
      "      <td>Housing</td>\n",
      "      <td>2.4</td>\n",
      "      <td>MD</td>\n",
      "    </tr>\n",
      "    <tr>\n",
      "      <th>82</th>\n",
      "      <td>24000</td>\n",
      "      <td>Maryland</td>\n",
      "      <td>37</td>\n",
      "      <td>Health</td>\n",
      "      <td>-4.6</td>\n",
      "      <td>MD</td>\n",
      "    </tr>\n",
      "    <tr>\n",
      "      <th>83</th>\n",
      "      <td>24000</td>\n",
      "      <td>Maryland</td>\n",
      "      <td>53</td>\n",
      "      <td>Transportation</td>\n",
      "      <td>-15.8</td>\n",
      "      <td>MD</td>\n",
      "    </tr>\n",
      "    <tr>\n",
      "      <th>84</th>\n",
      "      <td>25000</td>\n",
      "      <td>Massachusetts</td>\n",
      "      <td>3</td>\n",
      "      <td>Food</td>\n",
      "      <td>8.8</td>\n",
      "      <td>MA</td>\n",
      "    </tr>\n",
      "    <tr>\n",
      "      <th>85</th>\n",
      "      <td>25000</td>\n",
      "      <td>Massachusetts</td>\n",
      "      <td>18</td>\n",
      "      <td>Housing</td>\n",
      "      <td>4.2</td>\n",
      "      <td>MA</td>\n",
      "    </tr>\n",
      "    <tr>\n",
      "      <th>86</th>\n",
      "      <td>25000</td>\n",
      "      <td>Massachusetts</td>\n",
      "      <td>37</td>\n",
      "      <td>Health</td>\n",
      "      <td>-5.9</td>\n",
      "      <td>MA</td>\n",
      "    </tr>\n",
      "    <tr>\n",
      "      <th>87</th>\n",
      "      <td>25000</td>\n",
      "      <td>Massachusetts</td>\n",
      "      <td>53</td>\n",
      "      <td>Transportation</td>\n",
      "      <td>-23.9</td>\n",
      "      <td>MA</td>\n",
      "    </tr>\n",
      "    <tr>\n",
      "      <th>88</th>\n",
      "      <td>26000</td>\n",
      "      <td>Michigan</td>\n",
      "      <td>3</td>\n",
      "      <td>Food</td>\n",
      "      <td>10.6</td>\n",
      "      <td>MI</td>\n",
      "    </tr>\n",
      "    <tr>\n",
      "      <th>89</th>\n",
      "      <td>26000</td>\n",
      "      <td>Michigan</td>\n",
      "      <td>18</td>\n",
      "      <td>Housing</td>\n",
      "      <td>2.3</td>\n",
      "      <td>MI</td>\n",
      "    </tr>\n",
      "    <tr>\n",
      "      <th>90</th>\n",
      "      <td>26000</td>\n",
      "      <td>Michigan</td>\n",
      "      <td>37</td>\n",
      "      <td>Health</td>\n",
      "      <td>-5.7</td>\n",
      "      <td>MI</td>\n",
      "    </tr>\n",
      "    <tr>\n",
      "      <th>91</th>\n",
      "      <td>26000</td>\n",
      "      <td>Michigan</td>\n",
      "      <td>53</td>\n",
      "      <td>Transportation</td>\n",
      "      <td>-14.2</td>\n",
      "      <td>MI</td>\n",
      "    </tr>\n",
      "    <tr>\n",
      "      <th>92</th>\n",
      "      <td>27000</td>\n",
      "      <td>Minnesota</td>\n",
      "      <td>3</td>\n",
      "      <td>Food</td>\n",
      "      <td>8.9</td>\n",
      "      <td>MN</td>\n",
      "    </tr>\n",
      "    <tr>\n",
      "      <th>93</th>\n",
      "      <td>27000</td>\n",
      "      <td>Minnesota</td>\n",
      "      <td>18</td>\n",
      "      <td>Housing</td>\n",
      "      <td>3.4</td>\n",
      "      <td>MN</td>\n",
      "    </tr>\n",
      "    <tr>\n",
      "      <th>94</th>\n",
      "      <td>27000</td>\n",
      "      <td>Minnesota</td>\n",
      "      <td>37</td>\n",
      "      <td>Health</td>\n",
      "      <td>-5.9</td>\n",
      "      <td>MN</td>\n",
      "    </tr>\n",
      "    <tr>\n",
      "      <th>95</th>\n",
      "      <td>27000</td>\n",
      "      <td>Minnesota</td>\n",
      "      <td>53</td>\n",
      "      <td>Transportation</td>\n",
      "      <td>-11.9</td>\n",
      "      <td>MN</td>\n",
      "    </tr>\n",
      "    <tr>\n",
      "      <th>96</th>\n",
      "      <td>28000</td>\n",
      "      <td>Mississippi</td>\n",
      "      <td>3</td>\n",
      "      <td>Food</td>\n",
      "      <td>11.3</td>\n",
      "      <td>MS</td>\n",
      "    </tr>\n",
      "    <tr>\n",
      "      <th>97</th>\n",
      "      <td>28000</td>\n",
      "      <td>Mississippi</td>\n",
      "      <td>18</td>\n",
      "      <td>Housing</td>\n",
      "      <td>1.1</td>\n",
      "      <td>MS</td>\n",
      "    </tr>\n",
      "    <tr>\n",
      "      <th>98</th>\n",
      "      <td>28000</td>\n",
      "      <td>Mississippi</td>\n",
      "      <td>37</td>\n",
      "      <td>Health</td>\n",
      "      <td>-3.3</td>\n",
      "      <td>MS</td>\n",
      "    </tr>\n",
      "    <tr>\n",
      "      <th>99</th>\n",
      "      <td>28000</td>\n",
      "      <td>Mississippi</td>\n",
      "      <td>53</td>\n",
      "      <td>Transportation</td>\n",
      "      <td>-6.8</td>\n",
      "      <td>MS</td>\n",
      "    </tr>\n",
      "    <tr>\n",
      "      <th>100</th>\n",
      "      <td>29000</td>\n",
      "      <td>Missouri</td>\n",
      "      <td>3</td>\n",
      "      <td>Food</td>\n",
      "      <td>10.2</td>\n",
      "      <td>MO</td>\n",
      "    </tr>\n",
      "    <tr>\n",
      "      <th>101</th>\n",
      "      <td>29000</td>\n",
      "      <td>Missouri</td>\n",
      "      <td>18</td>\n",
      "      <td>Housing</td>\n",
      "      <td>2.6</td>\n",
      "      <td>MO</td>\n",
      "    </tr>\n",
      "    <tr>\n",
      "      <th>102</th>\n",
      "      <td>29000</td>\n",
      "      <td>Missouri</td>\n",
      "      <td>37</td>\n",
      "      <td>Health</td>\n",
      "      <td>-4.7</td>\n",
      "      <td>MO</td>\n",
      "    </tr>\n",
      "    <tr>\n",
      "      <th>103</th>\n",
      "      <td>29000</td>\n",
      "      <td>Missouri</td>\n",
      "      <td>53</td>\n",
      "      <td>Transportation</td>\n",
      "      <td>-9.6</td>\n",
      "      <td>MO</td>\n",
      "    </tr>\n",
      "    <tr>\n",
      "      <th>104</th>\n",
      "      <td>30000</td>\n",
      "      <td>Montana</td>\n",
      "      <td>3</td>\n",
      "      <td>Food</td>\n",
      "      <td>9.6</td>\n",
      "      <td>MT</td>\n",
      "    </tr>\n",
      "    <tr>\n",
      "      <th>105</th>\n",
      "      <td>30000</td>\n",
      "      <td>Montana</td>\n",
      "      <td>18</td>\n",
      "      <td>Housing</td>\n",
      "      <td>5.4</td>\n",
      "      <td>MT</td>\n",
      "    </tr>\n",
      "    <tr>\n",
      "      <th>106</th>\n",
      "      <td>30000</td>\n",
      "      <td>Montana</td>\n",
      "      <td>37</td>\n",
      "      <td>Health</td>\n",
      "      <td>-1.8</td>\n",
      "      <td>MT</td>\n",
      "    </tr>\n",
      "    <tr>\n",
      "      <th>107</th>\n",
      "      <td>30000</td>\n",
      "      <td>Montana</td>\n",
      "      <td>53</td>\n",
      "      <td>Transportation</td>\n",
      "      <td>-7.0</td>\n",
      "      <td>MT</td>\n",
      "    </tr>\n",
      "    <tr>\n",
      "      <th>108</th>\n",
      "      <td>31000</td>\n",
      "      <td>Nebraska</td>\n",
      "      <td>3</td>\n",
      "      <td>Food</td>\n",
      "      <td>10.8</td>\n",
      "      <td>NE</td>\n",
      "    </tr>\n",
      "    <tr>\n",
      "      <th>109</th>\n",
      "      <td>31000</td>\n",
      "      <td>Nebraska</td>\n",
      "      <td>18</td>\n",
      "      <td>Housing</td>\n",
      "      <td>3.4</td>\n",
      "      <td>NE</td>\n",
      "    </tr>\n",
      "    <tr>\n",
      "      <th>110</th>\n",
      "      <td>31000</td>\n",
      "      <td>Nebraska</td>\n",
      "      <td>37</td>\n",
      "      <td>Health</td>\n",
      "      <td>-3.4</td>\n",
      "      <td>NE</td>\n",
      "    </tr>\n",
      "    <tr>\n",
      "      <th>111</th>\n",
      "      <td>31000</td>\n",
      "      <td>Nebraska</td>\n",
      "      <td>53</td>\n",
      "      <td>Transportation</td>\n",
      "      <td>-8.6</td>\n",
      "      <td>NE</td>\n",
      "    </tr>\n",
      "    <tr>\n",
      "      <th>112</th>\n",
      "      <td>32000</td>\n",
      "      <td>Nevada</td>\n",
      "      <td>3</td>\n",
      "      <td>Food</td>\n",
      "      <td>11.7</td>\n",
      "      <td>NV</td>\n",
      "    </tr>\n",
      "    <tr>\n",
      "      <th>113</th>\n",
      "      <td>32000</td>\n",
      "      <td>Nevada</td>\n",
      "      <td>18</td>\n",
      "      <td>Housing</td>\n",
      "      <td>6.8</td>\n",
      "      <td>NV</td>\n",
      "    </tr>\n",
      "    <tr>\n",
      "      <th>114</th>\n",
      "      <td>32000</td>\n",
      "      <td>Nevada</td>\n",
      "      <td>37</td>\n",
      "      <td>Health</td>\n",
      "      <td>-3.0</td>\n",
      "      <td>NV</td>\n",
      "    </tr>\n",
      "    <tr>\n",
      "      <th>115</th>\n",
      "      <td>32000</td>\n",
      "      <td>Nevada</td>\n",
      "      <td>53</td>\n",
      "      <td>Transportation</td>\n",
      "      <td>-14.6</td>\n",
      "      <td>NV</td>\n",
      "    </tr>\n",
      "    <tr>\n",
      "      <th>116</th>\n",
      "      <td>33000</td>\n",
      "      <td>New Hampshire</td>\n",
      "      <td>3</td>\n",
      "      <td>Food</td>\n",
      "      <td>11.5</td>\n",
      "      <td>NH</td>\n",
      "    </tr>\n",
      "    <tr>\n",
      "      <th>117</th>\n",
      "      <td>33000</td>\n",
      "      <td>New Hampshire</td>\n",
      "      <td>18</td>\n",
      "      <td>Housing</td>\n",
      "      <td>3.2</td>\n",
      "      <td>NH</td>\n",
      "    </tr>\n",
      "    <tr>\n",
      "      <th>118</th>\n",
      "      <td>33000</td>\n",
      "      <td>New Hampshire</td>\n",
      "      <td>37</td>\n",
      "      <td>Health</td>\n",
      "      <td>-4.9</td>\n",
      "      <td>NH</td>\n",
      "    </tr>\n",
      "    <tr>\n",
      "      <th>119</th>\n",
      "      <td>33000</td>\n",
      "      <td>New Hampshire</td>\n",
      "      <td>53</td>\n",
      "      <td>Transportation</td>\n",
      "      <td>-9.7</td>\n",
      "      <td>NH</td>\n",
      "    </tr>\n",
      "    <tr>\n",
      "      <th>120</th>\n",
      "      <td>34000</td>\n",
      "      <td>New Jersey</td>\n",
      "      <td>3</td>\n",
      "      <td>Food</td>\n",
      "      <td>10.0</td>\n",
      "      <td>NJ</td>\n",
      "    </tr>\n",
      "    <tr>\n",
      "      <th>121</th>\n",
      "      <td>34000</td>\n",
      "      <td>New Jersey</td>\n",
      "      <td>18</td>\n",
      "      <td>Housing</td>\n",
      "      <td>2.8</td>\n",
      "      <td>NJ</td>\n",
      "    </tr>\n",
      "    <tr>\n",
      "      <th>122</th>\n",
      "      <td>34000</td>\n",
      "      <td>New Jersey</td>\n",
      "      <td>37</td>\n",
      "      <td>Health</td>\n",
      "      <td>-2.6</td>\n",
      "      <td>NJ</td>\n",
      "    </tr>\n",
      "    <tr>\n",
      "      <th>123</th>\n",
      "      <td>34000</td>\n",
      "      <td>New Jersey</td>\n",
      "      <td>53</td>\n",
      "      <td>Transportation</td>\n",
      "      <td>-19.8</td>\n",
      "      <td>NJ</td>\n",
      "    </tr>\n",
      "    <tr>\n",
      "      <th>124</th>\n",
      "      <td>35000</td>\n",
      "      <td>New Mexico</td>\n",
      "      <td>3</td>\n",
      "      <td>Food</td>\n",
      "      <td>11.1</td>\n",
      "      <td>NM</td>\n",
      "    </tr>\n",
      "    <tr>\n",
      "      <th>125</th>\n",
      "      <td>35000</td>\n",
      "      <td>New Mexico</td>\n",
      "      <td>18</td>\n",
      "      <td>Housing</td>\n",
      "      <td>3.1</td>\n",
      "      <td>NM</td>\n",
      "    </tr>\n",
      "    <tr>\n",
      "      <th>126</th>\n",
      "      <td>35000</td>\n",
      "      <td>New Mexico</td>\n",
      "      <td>37</td>\n",
      "      <td>Health</td>\n",
      "      <td>-3.7</td>\n",
      "      <td>NM</td>\n",
      "    </tr>\n",
      "    <tr>\n",
      "      <th>127</th>\n",
      "      <td>35000</td>\n",
      "      <td>New Mexico</td>\n",
      "      <td>53</td>\n",
      "      <td>Transportation</td>\n",
      "      <td>-13.3</td>\n",
      "      <td>NM</td>\n",
      "    </tr>\n",
      "    <tr>\n",
      "      <th>128</th>\n",
      "      <td>36000</td>\n",
      "      <td>New York</td>\n",
      "      <td>3</td>\n",
      "      <td>Food</td>\n",
      "      <td>9.6</td>\n",
      "      <td>NY</td>\n",
      "    </tr>\n",
      "    <tr>\n",
      "      <th>129</th>\n",
      "      <td>36000</td>\n",
      "      <td>New York</td>\n",
      "      <td>18</td>\n",
      "      <td>Housing</td>\n",
      "      <td>3.2</td>\n",
      "      <td>NY</td>\n",
      "    </tr>\n",
      "    <tr>\n",
      "      <th>130</th>\n",
      "      <td>36000</td>\n",
      "      <td>New York</td>\n",
      "      <td>37</td>\n",
      "      <td>Health</td>\n",
      "      <td>-3.2</td>\n",
      "      <td>NY</td>\n",
      "    </tr>\n",
      "    <tr>\n",
      "      <th>131</th>\n",
      "      <td>36000</td>\n",
      "      <td>New York</td>\n",
      "      <td>53</td>\n",
      "      <td>Transportation</td>\n",
      "      <td>-26.0</td>\n",
      "      <td>NY</td>\n",
      "    </tr>\n",
      "    <tr>\n",
      "      <th>132</th>\n",
      "      <td>37000</td>\n",
      "      <td>North Carolina</td>\n",
      "      <td>3</td>\n",
      "      <td>Food</td>\n",
      "      <td>15.2</td>\n",
      "      <td>NC</td>\n",
      "    </tr>\n",
      "    <tr>\n",
      "      <th>133</th>\n",
      "      <td>37000</td>\n",
      "      <td>North Carolina</td>\n",
      "      <td>18</td>\n",
      "      <td>Housing</td>\n",
      "      <td>3.7</td>\n",
      "      <td>NC</td>\n",
      "    </tr>\n",
      "    <tr>\n",
      "      <th>134</th>\n",
      "      <td>37000</td>\n",
      "      <td>North Carolina</td>\n",
      "      <td>37</td>\n",
      "      <td>Health</td>\n",
      "      <td>-3.6</td>\n",
      "      <td>NC</td>\n",
      "    </tr>\n",
      "    <tr>\n",
      "      <th>135</th>\n",
      "      <td>37000</td>\n",
      "      <td>North Carolina</td>\n",
      "      <td>53</td>\n",
      "      <td>Transportation</td>\n",
      "      <td>-9.9</td>\n",
      "      <td>NC</td>\n",
      "    </tr>\n",
      "    <tr>\n",
      "      <th>136</th>\n",
      "      <td>38000</td>\n",
      "      <td>North Dakota</td>\n",
      "      <td>3</td>\n",
      "      <td>Food</td>\n",
      "      <td>7.9</td>\n",
      "      <td>ND</td>\n",
      "    </tr>\n",
      "    <tr>\n",
      "      <th>137</th>\n",
      "      <td>38000</td>\n",
      "      <td>North Dakota</td>\n",
      "      <td>18</td>\n",
      "      <td>Housing</td>\n",
      "      <td>-0.7</td>\n",
      "      <td>ND</td>\n",
      "    </tr>\n",
      "    <tr>\n",
      "      <th>138</th>\n",
      "      <td>38000</td>\n",
      "      <td>North Dakota</td>\n",
      "      <td>37</td>\n",
      "      <td>Health</td>\n",
      "      <td>-4.9</td>\n",
      "      <td>ND</td>\n",
      "    </tr>\n",
      "    <tr>\n",
      "      <th>139</th>\n",
      "      <td>38000</td>\n",
      "      <td>North Dakota</td>\n",
      "      <td>53</td>\n",
      "      <td>Transportation</td>\n",
      "      <td>-8.1</td>\n",
      "      <td>ND</td>\n",
      "    </tr>\n",
      "    <tr>\n",
      "      <th>140</th>\n",
      "      <td>39000</td>\n",
      "      <td>Ohio</td>\n",
      "      <td>3</td>\n",
      "      <td>Food</td>\n",
      "      <td>9.8</td>\n",
      "      <td>OH</td>\n",
      "    </tr>\n",
      "    <tr>\n",
      "      <th>141</th>\n",
      "      <td>39000</td>\n",
      "      <td>Ohio</td>\n",
      "      <td>18</td>\n",
      "      <td>Housing</td>\n",
      "      <td>1.8</td>\n",
      "      <td>OH</td>\n",
      "    </tr>\n",
      "    <tr>\n",
      "      <th>142</th>\n",
      "      <td>39000</td>\n",
      "      <td>Ohio</td>\n",
      "      <td>37</td>\n",
      "      <td>Health</td>\n",
      "      <td>-4.5</td>\n",
      "      <td>OH</td>\n",
      "    </tr>\n",
      "    <tr>\n",
      "      <th>143</th>\n",
      "      <td>39000</td>\n",
      "      <td>Ohio</td>\n",
      "      <td>53</td>\n",
      "      <td>Transportation</td>\n",
      "      <td>-11.2</td>\n",
      "      <td>OH</td>\n",
      "    </tr>\n",
      "    <tr>\n",
      "      <th>144</th>\n",
      "      <td>40000</td>\n",
      "      <td>Oklahoma</td>\n",
      "      <td>3</td>\n",
      "      <td>Food</td>\n",
      "      <td>11.5</td>\n",
      "      <td>OK</td>\n",
      "    </tr>\n",
      "    <tr>\n",
      "      <th>145</th>\n",
      "      <td>40000</td>\n",
      "      <td>Oklahoma</td>\n",
      "      <td>18</td>\n",
      "      <td>Housing</td>\n",
      "      <td>1.9</td>\n",
      "      <td>OK</td>\n",
      "    </tr>\n",
      "    <tr>\n",
      "      <th>146</th>\n",
      "      <td>40000</td>\n",
      "      <td>Oklahoma</td>\n",
      "      <td>37</td>\n",
      "      <td>Health</td>\n",
      "      <td>-4.8</td>\n",
      "      <td>OK</td>\n",
      "    </tr>\n",
      "    <tr>\n",
      "      <th>147</th>\n",
      "      <td>40000</td>\n",
      "      <td>Oklahoma</td>\n",
      "      <td>53</td>\n",
      "      <td>Transportation</td>\n",
      "      <td>-7.5</td>\n",
      "      <td>OK</td>\n",
      "    </tr>\n",
      "    <tr>\n",
      "      <th>148</th>\n",
      "      <td>41000</td>\n",
      "      <td>Oregon</td>\n",
      "      <td>3</td>\n",
      "      <td>Food</td>\n",
      "      <td>13.1</td>\n",
      "      <td>OR</td>\n",
      "    </tr>\n",
      "    <tr>\n",
      "      <th>149</th>\n",
      "      <td>41000</td>\n",
      "      <td>Oregon</td>\n",
      "      <td>18</td>\n",
      "      <td>Housing</td>\n",
      "      <td>5.1</td>\n",
      "      <td>OR</td>\n",
      "    </tr>\n",
      "    <tr>\n",
      "      <th>150</th>\n",
      "      <td>41000</td>\n",
      "      <td>Oregon</td>\n",
      "      <td>37</td>\n",
      "      <td>Health</td>\n",
      "      <td>-4.3</td>\n",
      "      <td>OR</td>\n",
      "    </tr>\n",
      "    <tr>\n",
      "      <th>151</th>\n",
      "      <td>41000</td>\n",
      "      <td>Oregon</td>\n",
      "      <td>53</td>\n",
      "      <td>Transportation</td>\n",
      "      <td>-15.3</td>\n",
      "      <td>OR</td>\n",
      "    </tr>\n",
      "    <tr>\n",
      "      <th>152</th>\n",
      "      <td>42000</td>\n",
      "      <td>Pennsylvania</td>\n",
      "      <td>3</td>\n",
      "      <td>Food</td>\n",
      "      <td>8.6</td>\n",
      "      <td>PA</td>\n",
      "    </tr>\n",
      "    <tr>\n",
      "      <th>153</th>\n",
      "      <td>42000</td>\n",
      "      <td>Pennsylvania</td>\n",
      "      <td>18</td>\n",
      "      <td>Housing</td>\n",
      "      <td>2.2</td>\n",
      "      <td>PA</td>\n",
      "    </tr>\n",
      "    <tr>\n",
      "      <th>154</th>\n",
      "      <td>42000</td>\n",
      "      <td>Pennsylvania</td>\n",
      "      <td>37</td>\n",
      "      <td>Health</td>\n",
      "      <td>-4.0</td>\n",
      "      <td>PA</td>\n",
      "    </tr>\n",
      "    <tr>\n",
      "      <th>155</th>\n",
      "      <td>42000</td>\n",
      "      <td>Pennsylvania</td>\n",
      "      <td>53</td>\n",
      "      <td>Transportation</td>\n",
      "      <td>-15.7</td>\n",
      "      <td>PA</td>\n",
      "    </tr>\n",
      "    <tr>\n",
      "      <th>156</th>\n",
      "      <td>44000</td>\n",
      "      <td>Rhode Island</td>\n",
      "      <td>3</td>\n",
      "      <td>Food</td>\n",
      "      <td>10.0</td>\n",
      "      <td>RI</td>\n",
      "    </tr>\n",
      "    <tr>\n",
      "      <th>157</th>\n",
      "      <td>44000</td>\n",
      "      <td>Rhode Island</td>\n",
      "      <td>18</td>\n",
      "      <td>Housing</td>\n",
      "      <td>3.3</td>\n",
      "      <td>RI</td>\n",
      "    </tr>\n",
      "    <tr>\n",
      "      <th>158</th>\n",
      "      <td>44000</td>\n",
      "      <td>Rhode Island</td>\n",
      "      <td>37</td>\n",
      "      <td>Health</td>\n",
      "      <td>-6.2</td>\n",
      "      <td>RI</td>\n",
      "    </tr>\n",
      "    <tr>\n",
      "      <th>159</th>\n",
      "      <td>44000</td>\n",
      "      <td>Rhode Island</td>\n",
      "      <td>53</td>\n",
      "      <td>Transportation</td>\n",
      "      <td>-17.3</td>\n",
      "      <td>RI</td>\n",
      "    </tr>\n",
      "    <tr>\n",
      "      <th>160</th>\n",
      "      <td>45000</td>\n",
      "      <td>South Carolina</td>\n",
      "      <td>3</td>\n",
      "      <td>Food</td>\n",
      "      <td>13.1</td>\n",
      "      <td>SC</td>\n",
      "    </tr>\n",
      "    <tr>\n",
      "      <th>161</th>\n",
      "      <td>45000</td>\n",
      "      <td>South Carolina</td>\n",
      "      <td>18</td>\n",
      "      <td>Housing</td>\n",
      "      <td>4.1</td>\n",
      "      <td>SC</td>\n",
      "    </tr>\n",
      "    <tr>\n",
      "      <th>162</th>\n",
      "      <td>45000</td>\n",
      "      <td>South Carolina</td>\n",
      "      <td>37</td>\n",
      "      <td>Health</td>\n",
      "      <td>-3.1</td>\n",
      "      <td>SC</td>\n",
      "    </tr>\n",
      "    <tr>\n",
      "      <th>163</th>\n",
      "      <td>45000</td>\n",
      "      <td>South Carolina</td>\n",
      "      <td>53</td>\n",
      "      <td>Transportation</td>\n",
      "      <td>-8.0</td>\n",
      "      <td>SC</td>\n",
      "    </tr>\n",
      "    <tr>\n",
      "      <th>164</th>\n",
      "      <td>46000</td>\n",
      "      <td>South Dakota</td>\n",
      "      <td>3</td>\n",
      "      <td>Food</td>\n",
      "      <td>10.8</td>\n",
      "      <td>SD</td>\n",
      "    </tr>\n",
      "    <tr>\n",
      "      <th>165</th>\n",
      "      <td>46000</td>\n",
      "      <td>South Dakota</td>\n",
      "      <td>18</td>\n",
      "      <td>Housing</td>\n",
      "      <td>1.9</td>\n",
      "      <td>SD</td>\n",
      "    </tr>\n",
      "    <tr>\n",
      "      <th>166</th>\n",
      "      <td>46000</td>\n",
      "      <td>South Dakota</td>\n",
      "      <td>37</td>\n",
      "      <td>Health</td>\n",
      "      <td>-4.5</td>\n",
      "      <td>SD</td>\n",
      "    </tr>\n",
      "    <tr>\n",
      "      <th>167</th>\n",
      "      <td>46000</td>\n",
      "      <td>South Dakota</td>\n",
      "      <td>53</td>\n",
      "      <td>Transportation</td>\n",
      "      <td>-3.7</td>\n",
      "      <td>SD</td>\n",
      "    </tr>\n",
      "    <tr>\n",
      "      <th>168</th>\n",
      "      <td>47000</td>\n",
      "      <td>Tennessee</td>\n",
      "      <td>3</td>\n",
      "      <td>Food</td>\n",
      "      <td>13.0</td>\n",
      "      <td>TN</td>\n",
      "    </tr>\n",
      "    <tr>\n",
      "      <th>169</th>\n",
      "      <td>47000</td>\n",
      "      <td>Tennessee</td>\n",
      "      <td>18</td>\n",
      "      <td>Housing</td>\n",
      "      <td>4.3</td>\n",
      "      <td>TN</td>\n",
      "    </tr>\n",
      "    <tr>\n",
      "      <th>170</th>\n",
      "      <td>47000</td>\n",
      "      <td>Tennessee</td>\n",
      "      <td>37</td>\n",
      "      <td>Health</td>\n",
      "      <td>-1.6</td>\n",
      "      <td>TN</td>\n",
      "    </tr>\n",
      "    <tr>\n",
      "      <th>171</th>\n",
      "      <td>47000</td>\n",
      "      <td>Tennessee</td>\n",
      "      <td>53</td>\n",
      "      <td>Transportation</td>\n",
      "      <td>-10.2</td>\n",
      "      <td>TN</td>\n",
      "    </tr>\n",
      "    <tr>\n",
      "      <th>172</th>\n",
      "      <td>48000</td>\n",
      "      <td>Texas</td>\n",
      "      <td>3</td>\n",
      "      <td>Food</td>\n",
      "      <td>14.2</td>\n",
      "      <td>TX</td>\n",
      "    </tr>\n",
      "    <tr>\n",
      "      <th>173</th>\n",
      "      <td>48000</td>\n",
      "      <td>Texas</td>\n",
      "      <td>18</td>\n",
      "      <td>Housing</td>\n",
      "      <td>4.0</td>\n",
      "      <td>TX</td>\n",
      "    </tr>\n",
      "    <tr>\n",
      "      <th>174</th>\n",
      "      <td>48000</td>\n",
      "      <td>Texas</td>\n",
      "      <td>37</td>\n",
      "      <td>Health</td>\n",
      "      <td>-3.7</td>\n",
      "      <td>TX</td>\n",
      "    </tr>\n",
      "    <tr>\n",
      "      <th>175</th>\n",
      "      <td>48000</td>\n",
      "      <td>Texas</td>\n",
      "      <td>53</td>\n",
      "      <td>Transportation</td>\n",
      "      <td>-10.0</td>\n",
      "      <td>TX</td>\n",
      "    </tr>\n",
      "    <tr>\n",
      "      <th>176</th>\n",
      "      <td>49000</td>\n",
      "      <td>Utah</td>\n",
      "      <td>3</td>\n",
      "      <td>Food</td>\n",
      "      <td>11.2</td>\n",
      "      <td>UT</td>\n",
      "    </tr>\n",
      "    <tr>\n",
      "      <th>177</th>\n",
      "      <td>49000</td>\n",
      "      <td>Utah</td>\n",
      "      <td>18</td>\n",
      "      <td>Housing</td>\n",
      "      <td>5.8</td>\n",
      "      <td>UT</td>\n",
      "    </tr>\n",
      "    <tr>\n",
      "      <th>178</th>\n",
      "      <td>49000</td>\n",
      "      <td>Utah</td>\n",
      "      <td>37</td>\n",
      "      <td>Health</td>\n",
      "      <td>-3.2</td>\n",
      "      <td>UT</td>\n",
      "    </tr>\n",
      "    <tr>\n",
      "      <th>179</th>\n",
      "      <td>49000</td>\n",
      "      <td>Utah</td>\n",
      "      <td>53</td>\n",
      "      <td>Transportation</td>\n",
      "      <td>-6.5</td>\n",
      "      <td>UT</td>\n",
      "    </tr>\n",
      "    <tr>\n",
      "      <th>180</th>\n",
      "      <td>50000</td>\n",
      "      <td>Vermont</td>\n",
      "      <td>3</td>\n",
      "      <td>Food</td>\n",
      "      <td>9.4</td>\n",
      "      <td>VT</td>\n",
      "    </tr>\n",
      "    <tr>\n",
      "      <th>181</th>\n",
      "      <td>50000</td>\n",
      "      <td>Vermont</td>\n",
      "      <td>18</td>\n",
      "      <td>Housing</td>\n",
      "      <td>3.4</td>\n",
      "      <td>VT</td>\n",
      "    </tr>\n",
      "    <tr>\n",
      "      <th>182</th>\n",
      "      <td>50000</td>\n",
      "      <td>Vermont</td>\n",
      "      <td>37</td>\n",
      "      <td>Health</td>\n",
      "      <td>-3.8</td>\n",
      "      <td>VT</td>\n",
      "    </tr>\n",
      "    <tr>\n",
      "      <th>183</th>\n",
      "      <td>50000</td>\n",
      "      <td>Vermont</td>\n",
      "      <td>53</td>\n",
      "      <td>Transportation</td>\n",
      "      <td>-14.6</td>\n",
      "      <td>VT</td>\n",
      "    </tr>\n",
      "    <tr>\n",
      "      <th>184</th>\n",
      "      <td>51000</td>\n",
      "      <td>Virginia</td>\n",
      "      <td>3</td>\n",
      "      <td>Food</td>\n",
      "      <td>11.2</td>\n",
      "      <td>VA</td>\n",
      "    </tr>\n",
      "    <tr>\n",
      "      <th>185</th>\n",
      "      <td>51000</td>\n",
      "      <td>Virginia</td>\n",
      "      <td>18</td>\n",
      "      <td>Housing</td>\n",
      "      <td>2.7</td>\n",
      "      <td>VA</td>\n",
      "    </tr>\n",
      "    <tr>\n",
      "      <th>186</th>\n",
      "      <td>51000</td>\n",
      "      <td>Virginia</td>\n",
      "      <td>37</td>\n",
      "      <td>Health</td>\n",
      "      <td>-4.7</td>\n",
      "      <td>VA</td>\n",
      "    </tr>\n",
      "    <tr>\n",
      "      <th>187</th>\n",
      "      <td>51000</td>\n",
      "      <td>Virginia</td>\n",
      "      <td>53</td>\n",
      "      <td>Transportation</td>\n",
      "      <td>-14.7</td>\n",
      "      <td>VA</td>\n",
      "    </tr>\n",
      "    <tr>\n",
      "      <th>188</th>\n",
      "      <td>53000</td>\n",
      "      <td>Washington</td>\n",
      "      <td>3</td>\n",
      "      <td>Food</td>\n",
      "      <td>14.6</td>\n",
      "      <td>WA</td>\n",
      "    </tr>\n",
      "    <tr>\n",
      "      <th>189</th>\n",
      "      <td>53000</td>\n",
      "      <td>Washington</td>\n",
      "      <td>18</td>\n",
      "      <td>Housing</td>\n",
      "      <td>5.8</td>\n",
      "      <td>WA</td>\n",
      "    </tr>\n",
      "    <tr>\n",
      "      <th>190</th>\n",
      "      <td>53000</td>\n",
      "      <td>Washington</td>\n",
      "      <td>37</td>\n",
      "      <td>Health</td>\n",
      "      <td>-6.0</td>\n",
      "      <td>WA</td>\n",
      "    </tr>\n",
      "    <tr>\n",
      "      <th>191</th>\n",
      "      <td>53000</td>\n",
      "      <td>Washington</td>\n",
      "      <td>53</td>\n",
      "      <td>Transportation</td>\n",
      "      <td>-20.7</td>\n",
      "      <td>WA</td>\n",
      "    </tr>\n",
      "    <tr>\n",
      "      <th>192</th>\n",
      "      <td>54000</td>\n",
      "      <td>West Virginia</td>\n",
      "      <td>3</td>\n",
      "      <td>Food</td>\n",
      "      <td>10.0</td>\n",
      "      <td>WV</td>\n",
      "    </tr>\n",
      "    <tr>\n",
      "      <th>193</th>\n",
      "      <td>54000</td>\n",
      "      <td>West Virginia</td>\n",
      "      <td>18</td>\n",
      "      <td>Housing</td>\n",
      "      <td>0.6</td>\n",
      "      <td>WV</td>\n",
      "    </tr>\n",
      "    <tr>\n",
      "      <th>194</th>\n",
      "      <td>54000</td>\n",
      "      <td>West Virginia</td>\n",
      "      <td>37</td>\n",
      "      <td>Health</td>\n",
      "      <td>-3.9</td>\n",
      "      <td>WV</td>\n",
      "    </tr>\n",
      "    <tr>\n",
      "      <th>195</th>\n",
      "      <td>54000</td>\n",
      "      <td>West Virginia</td>\n",
      "      <td>53</td>\n",
      "      <td>Transportation</td>\n",
      "      <td>-11.3</td>\n",
      "      <td>WV</td>\n",
      "    </tr>\n",
      "    <tr>\n",
      "      <th>196</th>\n",
      "      <td>55000</td>\n",
      "      <td>Wisconsin</td>\n",
      "      <td>3</td>\n",
      "      <td>Food</td>\n",
      "      <td>8.6</td>\n",
      "      <td>WI</td>\n",
      "    </tr>\n",
      "    <tr>\n",
      "      <th>197</th>\n",
      "      <td>55000</td>\n",
      "      <td>Wisconsin</td>\n",
      "      <td>18</td>\n",
      "      <td>Housing</td>\n",
      "      <td>2.3</td>\n",
      "      <td>WI</td>\n",
      "    </tr>\n",
      "    <tr>\n",
      "      <th>198</th>\n",
      "      <td>55000</td>\n",
      "      <td>Wisconsin</td>\n",
      "      <td>37</td>\n",
      "      <td>Health</td>\n",
      "      <td>-5.0</td>\n",
      "      <td>WI</td>\n",
      "    </tr>\n",
      "    <tr>\n",
      "      <th>199</th>\n",
      "      <td>55000</td>\n",
      "      <td>Wisconsin</td>\n",
      "      <td>53</td>\n",
      "      <td>Transportation</td>\n",
      "      <td>-10.0</td>\n",
      "      <td>WI</td>\n",
      "    </tr>\n",
      "    <tr>\n",
      "      <th>200</th>\n",
      "      <td>56000</td>\n",
      "      <td>Wyoming</td>\n",
      "      <td>3</td>\n",
      "      <td>Food</td>\n",
      "      <td>10.7</td>\n",
      "      <td>WY</td>\n",
      "    </tr>\n",
      "    <tr>\n",
      "      <th>201</th>\n",
      "      <td>56000</td>\n",
      "      <td>Wyoming</td>\n",
      "      <td>18</td>\n",
      "      <td>Housing</td>\n",
      "      <td>0.5</td>\n",
      "      <td>WY</td>\n",
      "    </tr>\n",
      "    <tr>\n",
      "      <th>202</th>\n",
      "      <td>56000</td>\n",
      "      <td>Wyoming</td>\n",
      "      <td>37</td>\n",
      "      <td>Health</td>\n",
      "      <td>-4.3</td>\n",
      "      <td>WY</td>\n",
      "    </tr>\n",
      "    <tr>\n",
      "      <th>203</th>\n",
      "      <td>56000</td>\n",
      "      <td>Wyoming</td>\n",
      "      <td>53</td>\n",
      "      <td>Transportation</td>\n",
      "      <td>-8.7</td>\n",
      "      <td>WY</td>\n",
      "    </tr>\n",
      "  </tbody>\n",
      "</table>\n"
     ]
    }
   ],
   "source": [
    "html_tbl = new_df.to_html()\n",
    "print(html_tbl)"
   ]
  },
  {
   "cell_type": "code",
   "execution_count": null,
   "metadata": {},
   "outputs": [],
   "source": []
  }
 ],
 "metadata": {
  "interpreter": {
   "hash": "b3d170011c39922df11dfe6356c1e8bf7818e6e795fb3a7489da71072c7e5fb6"
  },
  "kernelspec": {
   "display_name": "Python 3.6.13 64-bit ('PythonData': conda)",
   "name": "python3"
  },
  "language_info": {
   "codemirror_mode": {
    "name": "ipython",
    "version": 3
   },
   "file_extension": ".py",
   "mimetype": "text/x-python",
   "name": "python",
   "nbconvert_exporter": "python",
   "pygments_lexer": "ipython3",
   "version": "3.6.13"
  },
  "orig_nbformat": 4
 },
 "nbformat": 4,
 "nbformat_minor": 2
}
